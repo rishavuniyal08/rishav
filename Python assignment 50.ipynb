{
 "cells": [
  {
   "cell_type": "code",
   "execution_count": 1,
   "id": "469caa1f-a28f-4366-b96c-55fe50a0a6ff",
   "metadata": {},
   "outputs": [
    {
     "name": "stdin",
     "output_type": "stream",
     "text": [
      "Enter first number:  11\n",
      "Enter second number:  19\n",
      "Enter third number:  16\n"
     ]
    },
    {
     "name": "stdout",
     "output_type": "stream",
     "text": [
      "Largest number is 19\n"
     ]
    }
   ],
   "source": [
    "# 1 Find the largest of three numbers\n",
    "a = int(input(\"Enter first number: \"))\n",
    "b = int(input(\"Enter second number: \"))\n",
    "c = int(input(\"Enter third number: \"))\n",
    "\n",
    "if a >= b and a >= c:\n",
    "    print(\"Largest number is\", a)\n",
    "elif b >= a and b >= c:\n",
    "    print(\"Largest number is\", b)\n",
    "else:\n",
    "    print(\"Largest number is\", c)\n"
   ]
  },
  {
   "cell_type": "code",
   "execution_count": 2,
   "id": "97825d49-5831-4181-a85a-1a446e2fc007",
   "metadata": {},
   "outputs": [
    {
     "name": "stdin",
     "output_type": "stream",
     "text": [
      "Enter a number:  16\n"
     ]
    },
    {
     "name": "stdout",
     "output_type": "stream",
     "text": [
      "Even number\n"
     ]
    }
   ],
   "source": [
    "# 2 Check whether a number is even or odd\n",
    "num = int(input(\"Enter a number: \"))\n",
    "\n",
    "if num % 2 == 0:\n",
    "    print(\"Even number\")\n",
    "else:\n",
    "    print(\"Odd number\")\n"
   ]
  },
  {
   "cell_type": "code",
   "execution_count": 4,
   "id": "eb10c87c-2d40-4942-8f45-68e828e35280",
   "metadata": {},
   "outputs": [
    {
     "name": "stdin",
     "output_type": "stream",
     "text": [
      "Enter a string:  oooh\n"
     ]
    },
    {
     "name": "stdout",
     "output_type": "stream",
     "text": [
      "Reversed string: hooo\n"
     ]
    }
   ],
   "source": [
    "# 3 Reverse a string\n",
    "s = input(\"Enter a string: \")\n",
    "print(\"Reversed string:\", s[::-1])"
   ]
  },
  {
   "cell_type": "code",
   "execution_count": 5,
   "id": "38b7e4ac-d9c7-46e1-be48-e7fece43d393",
   "metadata": {},
   "outputs": [
    {
     "name": "stdin",
     "output_type": "stream",
     "text": [
      "Enter a string:  Vaibhav Negi\n"
     ]
    },
    {
     "name": "stdout",
     "output_type": "stream",
     "text": [
      "Number of vowels: 5\n"
     ]
    }
   ],
   "source": [
    "# 4 Count the number of vowels in a string\n",
    "s = input(\"Enter a string: \")\n",
    "count = 0\n",
    "for ch in s.lower():\n",
    "    if ch in 'aeiou':\n",
    "        count += 1\n",
    "print(\"Number of vowels:\", count)\n"
   ]
  },
  {
   "cell_type": "code",
   "execution_count": 6,
   "id": "a9a77abd-7449-441f-9a75-e01ab861d594",
   "metadata": {},
   "outputs": [
    {
     "name": "stdin",
     "output_type": "stream",
     "text": [
      "Enter first number:  11\n",
      "Enter second number:  4\n",
      "Enter operation (+, -, *, /):  *\n"
     ]
    },
    {
     "name": "stdout",
     "output_type": "stream",
     "text": [
      "Result: 44.0\n"
     ]
    }
   ],
   "source": [
    "# 5 Create a calculator using if-else\n",
    "a = float(input(\"Enter first number: \"))\n",
    "b = float(input(\"Enter second number: \"))\n",
    "op = input(\"Enter operation (+, -, *, /): \")\n",
    "\n",
    "if op == '+':\n",
    "    print(\"Result:\", a + b)\n",
    "elif op == '-':\n",
    "    print(\"Result:\", a - b)\n",
    "elif op == '*':\n",
    "    print(\"Result:\", a * b)\n",
    "elif op == '/':\n",
    "    if b != 0:\n",
    "        print(\"Result:\", a / b)\n",
    "    else:\n",
    "        print(\"Cannot divide by zero\")\n",
    "else:\n",
    "    print(\"Invalid operator\")\n"
   ]
  },
  {
   "cell_type": "code",
   "execution_count": 7,
   "id": "186fb69d-e0d7-479f-95f2-08b3e6718ca9",
   "metadata": {},
   "outputs": [
    {
     "name": "stdin",
     "output_type": "stream",
     "text": [
      "Enter a number:  9\n"
     ]
    },
    {
     "name": "stdout",
     "output_type": "stream",
     "text": [
      "Not a prime number\n"
     ]
    }
   ],
   "source": [
    "# 6 Check if a number is prime\n",
    "num = int(input(\"Enter a number: \"))\n",
    "if num > 1:\n",
    "    for i in range(2, num):\n",
    "        if num % i == 0:\n",
    "            print(\"Not a prime number\")\n",
    "            break\n",
    "    else:\n",
    "        print(\"Prime number\")\n",
    "else:\n",
    "    print(\"Not a prime number\")\n"
   ]
  },
  {
   "cell_type": "code",
   "execution_count": 8,
   "id": "b1af5158-6b33-4e8b-b4da-ccfe07986123",
   "metadata": {},
   "outputs": [
    {
     "name": "stdin",
     "output_type": "stream",
     "text": [
      "Enter a number:  16\n"
     ]
    },
    {
     "name": "stdout",
     "output_type": "stream",
     "text": [
      "16 x 1 = 16\n",
      "16 x 2 = 32\n",
      "16 x 3 = 48\n",
      "16 x 4 = 64\n",
      "16 x 5 = 80\n",
      "16 x 6 = 96\n",
      "16 x 7 = 112\n",
      "16 x 8 = 128\n",
      "16 x 9 = 144\n",
      "16 x 10 = 160\n"
     ]
    }
   ],
   "source": [
    "# 7 Display the multiplication table of a given number\n",
    "n = int(input(\"Enter a number: \"))\n",
    "for i in range(1, 11):\n",
    "    print(n, \"x\", i, \"=\", n * i)\n"
   ]
  },
  {
   "cell_type": "code",
   "execution_count": 9,
   "id": "97edc280-c9e0-433d-92d2-e007e9d962c5",
   "metadata": {},
   "outputs": [
    {
     "name": "stdin",
     "output_type": "stream",
     "text": [
      "Enter number of terms:  2\n"
     ]
    },
    {
     "name": "stdout",
     "output_type": "stream",
     "text": [
      "0 1 "
     ]
    }
   ],
   "source": [
    "# 8 Print the Fibonacci series up to n terms\n",
    "n = int(input(\"Enter number of terms: \"))\n",
    "a, b = 0, 1\n",
    "for _ in range(n):\n",
    "    print(a, end=\" \")\n",
    "    a, b = b, a + b\n"
   ]
  },
  {
   "cell_type": "code",
   "execution_count": 16,
   "id": "b658f932-91c6-4443-b3a8-e47ff15bd11c",
   "metadata": {},
   "outputs": [
    {
     "name": "stdin",
     "output_type": "stream",
     "text": [
      "Enter a number:  7\n"
     ]
    },
    {
     "name": "stdout",
     "output_type": "stream",
     "text": [
      "Factorial: 5040\n"
     ]
    }
   ],
   "source": [
    "# 9 Find the factorial of a number using a loop\n",
    "num = int(input(\"Enter a number: \"))\n",
    "fact = 1\n",
    "for i in range(1, num + 1):\n",
    "    fact *= i\n",
    "print(\"Factorial:\", fact)\n"
   ]
  },
  {
   "cell_type": "code",
   "execution_count": 18,
   "id": "f1f4fb33-edc0-4406-bca6-f484f35f18a6",
   "metadata": {},
   "outputs": [
    {
     "name": "stdin",
     "output_type": "stream",
     "text": [
      "Enter a number:  121\n"
     ]
    },
    {
     "name": "stdout",
     "output_type": "stream",
     "text": [
      "Palindrome\n"
     ]
    }
   ],
   "source": [
    "# 10 Check whether a number is a palindrome\n",
    "num = int(input(\"Enter a number: \"))\n",
    "if str(num) == str(num)[::-1]:\n",
    "    print(\"Palindrome\")\n",
    "else:\n",
    "    print(\"Not a palindrome\")\n"
   ]
  },
  {
   "cell_type": "code",
   "execution_count": 21,
   "id": "ef643136-dea1-4ed0-9891-fc2033dbf3b7",
   "metadata": {},
   "outputs": [
    {
     "name": "stdin",
     "output_type": "stream",
     "text": [
      "Enter a number:  1\n"
     ]
    },
    {
     "name": "stdout",
     "output_type": "stream",
     "text": [
      "Sum of digits: 1\n"
     ]
    }
   ],
   "source": [
    "# 11 Find the sum of digits of a number using a while loop\n",
    "num = int(input(\"Enter a number: \"))\n",
    "total = 0\n",
    "while num > 0:\n",
    "    total += num % 10\n",
    "    num //= 10\n",
    "print(\"Sum of digits:\", total)\n"
   ]
  },
  {
   "cell_type": "code",
   "execution_count": 22,
   "id": "158d66e4-cb4f-438b-8dd2-fb26def3a6eb",
   "metadata": {},
   "outputs": [
    {
     "name": "stdin",
     "output_type": "stream",
     "text": [
      "Enter temperature in Celsius:  39\n"
     ]
    },
    {
     "name": "stdout",
     "output_type": "stream",
     "text": [
      "Temperature in Fahrenheit: 102.2\n"
     ]
    }
   ],
   "source": [
    "# 12 Convert Celsius to Fahrenheit\n",
    "c = float(input(\"Enter temperature in Celsius: \"))\n",
    "f = (c * 9/5) + 32\n",
    "print(\"Temperature in Fahrenheit:\", f)\n"
   ]
  },
  {
   "cell_type": "code",
   "execution_count": 23,
   "id": "3748dd24-f859-48a9-999a-bb1061303282",
   "metadata": {},
   "outputs": [
    {
     "name": "stdin",
     "output_type": "stream",
     "text": [
      "Enter first number:  19\n",
      "Enter second number:  17\n"
     ]
    },
    {
     "name": "stdout",
     "output_type": "stream",
     "text": [
      "Maximum is: 19\n"
     ]
    }
   ],
   "source": [
    "# 13 Find maximum of two numbers using a function\n",
    "def maximum(a, b):\n",
    "    if a > b:\n",
    "        return a\n",
    "    else:\n",
    "        return b\n",
    "\n",
    "x = int(input(\"Enter first number: \"))\n",
    "y = int(input(\"Enter second number: \"))\n",
    "print(\"Maximum is:\", maximum(x, y))\n"
   ]
  },
  {
   "cell_type": "code",
   "execution_count": 24,
   "id": "50b6b6b4-d788-4c69-b68f-119c489ac35a",
   "metadata": {},
   "outputs": [
    {
     "name": "stdin",
     "output_type": "stream",
     "text": [
      "Enter numbers separated by space:  11 45 78 96 65 35 54 12 36 \n"
     ]
    },
    {
     "name": "stdout",
     "output_type": "stream",
     "text": [
      "Average: 48.0\n"
     ]
    }
   ],
   "source": [
    "# 14 Return average of a list of numbers\n",
    "nums = list(map(int, input(\"Enter numbers separated by space: \").split()))\n",
    "average = sum(nums) / len(nums)\n",
    "print(\"Average:\", average)\n"
   ]
  },
  {
   "cell_type": "code",
   "execution_count": 25,
   "id": "fcd264cb-9061-4db0-8413-bb9decbae615",
   "metadata": {},
   "outputs": [
    {
     "name": "stdin",
     "output_type": "stream",
     "text": [
      "Enter numbers:  45 58 77 12 41 38 \n"
     ]
    },
    {
     "name": "stdout",
     "output_type": "stream",
     "text": [
      "Second largest number is: 58\n"
     ]
    }
   ],
   "source": [
    "# 15 Find the second largest number in a list\n",
    "nums = list(map(int, input(\"Enter numbers: \").split()))\n",
    "unique = list(set(nums))\n",
    "unique.sort()\n",
    "print(\"Second largest number is:\", unique[-2])\n"
   ]
  },
  {
   "cell_type": "code",
   "execution_count": 26,
   "id": "e3cf8aba-d67e-4eb9-9132-482b03fc6bdf",
   "metadata": {},
   "outputs": [
    {
     "name": "stdin",
     "output_type": "stream",
     "text": [
      "Enter a sentence:  The way you're looking at me you've got me mesmerized\n"
     ]
    },
    {
     "name": "stdout",
     "output_type": "stream",
     "text": [
      "Number of words: 10\n"
     ]
    }
   ],
   "source": [
    "# 16 Count number of words in a sentence\n",
    "sentence = input(\"Enter a sentence: \")\n",
    "words = sentence.split()\n",
    "print(\"Number of words:\", len(words))\n"
   ]
  },
  {
   "cell_type": "code",
   "execution_count": 28,
   "id": "c9e2ebe3-31f9-4d21-99d4-d76a0969618a",
   "metadata": {},
   "outputs": [
    {
     "name": "stdin",
     "output_type": "stream",
     "text": [
      "Enter list items:  15 14 58 15 78 36\n"
     ]
    },
    {
     "name": "stdout",
     "output_type": "stream",
     "text": [
      "List without duplicates: [36, 78, 14, 15, 58]\n"
     ]
    }
   ],
   "source": [
    "# 17 Remove duplicates from a list\n",
    "items = list(map(int, input(\"Enter list items: \").split()))\n",
    "unique = list(set(items))\n",
    "print(\"List without duplicates:\", unique)\n"
   ]
  },
  {
   "cell_type": "code",
   "execution_count": 29,
   "id": "7b85c247-dc50-497f-860a-836d7a9309ae",
   "metadata": {},
   "outputs": [
    {
     "name": "stdin",
     "output_type": "stream",
     "text": [
      "Enter keys separated by space:  Boys Girls\n",
      "Enter values separated by space:  15 15\n"
     ]
    },
    {
     "name": "stdout",
     "output_type": "stream",
     "text": [
      "Dictionary: {'Boys': '15', 'Girls': '15'}\n"
     ]
    }
   ],
   "source": [
    "# 18 Create a dictionary from two lists\n",
    "keys = input(\"Enter keys separated by space: \").split()\n",
    "values = input(\"Enter values separated by space: \").split()\n",
    "d = dict(zip(keys, values))\n",
    "print(\"Dictionary:\", d)\n"
   ]
  },
  {
   "cell_type": "code",
   "execution_count": 31,
   "id": "ff0effc8-d219-4671-a40f-ea8e7d2f55ee",
   "metadata": {},
   "outputs": [
    {
     "name": "stdin",
     "output_type": "stream",
     "text": [
      "Enter numbers:  15 47 89 26 58\n"
     ]
    },
    {
     "name": "stdout",
     "output_type": "stream",
     "text": [
      "Sorted list: [15, 26, 47, 58, 89]\n"
     ]
    }
   ],
   "source": [
    "# 19 Sort a list without using sort() function\n",
    "nums = list(map(int, input(\"Enter numbers: \").split()))\n",
    "for i in range(len(nums)):\n",
    "    for j in range(i + 1, len(nums)):\n",
    "        if nums[i] > nums[j]:\n",
    "            nums[i], nums[j] = nums[j], nums[i]\n",
    "print(\"Sorted list:\", nums)\n"
   ]
  },
  {
   "cell_type": "code",
   "execution_count": 32,
   "id": "465c42f5-3566-4328-9595-206611bf80b7",
   "metadata": {},
   "outputs": [
    {
     "name": "stdin",
     "output_type": "stream",
     "text": [
      "Enter a sentence:  The quick brown fox jumps over the little lazy dog.\n"
     ]
    },
    {
     "name": "stdout",
     "output_type": "stream",
     "text": [
      "Is pangram: True\n"
     ]
    }
   ],
   "source": [
    "# 20 Check if a string is a pangram\n",
    "import string\n",
    "def is_pangram(s):\n",
    "    s = s.lower()\n",
    "    return all(ch in s for ch in string.ascii_lowercase)\n",
    "\n",
    "text = input(\"Enter a sentence: \")\n",
    "print(\"Is pangram:\", is_pangram(text))\n"
   ]
  },
  {
   "cell_type": "code",
   "execution_count": 34,
   "id": "eba0a8d9-20f8-422a-8d95-b5583889ec63",
   "metadata": {},
   "outputs": [
    {
     "name": "stdin",
     "output_type": "stream",
     "text": [
      "Enter something:  hmm\n"
     ]
    },
    {
     "name": "stdout",
     "output_type": "stream",
     "text": [
      "Not a number\n"
     ]
    }
   ],
   "source": [
    "# 21 Check if input is a number or not\n",
    "val = input(\"Enter something: \")\n",
    "if val.isdigit():\n",
    "    print(\"It is a number\")\n",
    "else:\n",
    "    print(\"Not a number\")\n"
   ]
  },
  {
   "cell_type": "code",
   "execution_count": 36,
   "id": "248ca8fe-4750-4728-8577-b2a23071be5e",
   "metadata": {},
   "outputs": [
    {
     "name": "stdin",
     "output_type": "stream",
     "text": [
      "Enter first string:  ooh\n",
      "Enter second string:  hoo\n"
     ]
    },
    {
     "name": "stdout",
     "output_type": "stream",
     "text": [
      "Strings are anagrams\n"
     ]
    }
   ],
   "source": [
    "# 22 Check if a string is an anagram of another\n",
    "str1 = input(\"Enter first string: \")\n",
    "str2 = input(\"Enter second string: \")\n",
    "if sorted(str1) == sorted(str2):\n",
    "    print(\"Strings are anagrams\")\n",
    "else:\n",
    "    print(\"Not anagrams\")\n"
   ]
  },
  {
   "cell_type": "code",
   "execution_count": 37,
   "id": "baf1db82-341e-48ff-8556-f8605aba0129",
   "metadata": {},
   "outputs": [
    {
     "name": "stdin",
     "output_type": "stream",
     "text": [
      "Enter a number:  6\n"
     ]
    },
    {
     "name": "stdout",
     "output_type": "stream",
     "text": [
      "Binary: 0b110\n",
      "Octal: 0o6\n",
      "Hexadecimal: 0x6\n"
     ]
    }
   ],
   "source": [
    "# 23 Print binary, octal, and hexadecimal of a number\n",
    "num = int(input(\"Enter a number: \"))\n",
    "print(\"Binary:\", bin(num))\n",
    "print(\"Octal:\", oct(num))\n",
    "print(\"Hexadecimal:\", hex(num))\n"
   ]
  },
  {
   "cell_type": "code",
   "execution_count": 39,
   "id": "f30af20e-a3b7-4fa7-b1cd-af5ec70c5206",
   "metadata": {},
   "outputs": [
    {
     "name": "stdin",
     "output_type": "stream",
     "text": [
      "Enter numbers:  45 87 94 92 15 67\n"
     ]
    },
    {
     "name": "stdout",
     "output_type": "stream",
     "text": [
      "Numbers greater than 50: [87, 94, 92, 67]\n"
     ]
    }
   ],
   "source": [
    "# 24 Print all elements greater than 50\n",
    "nums = list(map(int, input(\"Enter numbers: \").split()))\n",
    "result = [n for n in nums if n > 50]\n",
    "print(\"Numbers greater than 50:\", result)\n"
   ]
  },
  {
   "cell_type": "code",
   "execution_count": 40,
   "id": "d0e2a689-d095-45a4-842c-2cd14ccd7f89",
   "metadata": {},
   "outputs": [
    {
     "name": "stdin",
     "output_type": "stream",
     "text": [
      "Enter a string:  Vaibahv Negi\n"
     ]
    },
    {
     "name": "stdout",
     "output_type": "stream",
     "text": [
      "Uppercase letters: 2\n",
      "Lowercase letters: 9\n"
     ]
    }
   ],
   "source": [
    "# 25 Count uppercase and lowercase letters in a string\n",
    "s = input(\"Enter a string: \")\n",
    "upper = sum(1 for c in s if c.isupper())\n",
    "lower = sum(1 for c in s if c.islower())\n",
    "print(\"Uppercase letters:\", upper)\n",
    "print(\"Lowercase letters:\", lower)\n"
   ]
  },
  {
   "cell_type": "code",
   "execution_count": 43,
   "id": "c2f79aa6-bbd8-40ad-8654-5612b0248312",
   "metadata": {},
   "outputs": [
    {
     "name": "stdin",
     "output_type": "stream",
     "text": [
      "Enter numbers:  15 16 17 18 19 20\n"
     ]
    },
    {
     "name": "stdout",
     "output_type": "stream",
     "text": [
      "Squares: [225, 256, 289, 324, 361, 400]\n"
     ]
    }
   ],
   "source": [
    "# 26 Write a Python program using a lambda function to square all elements in a list\n",
    "nums = list(map(int, input(\"Enter numbers: \").split()))\n",
    "squares = list(map(lambda x: x ** 2, nums))\n",
    "print(\"Squares:\", squares)\n"
   ]
  },
  {
   "cell_type": "code",
   "execution_count": 44,
   "id": "279b0c7f-5e53-4adb-bb74-986a7f1cd5a4",
   "metadata": {},
   "outputs": [
    {
     "name": "stdout",
     "output_type": "stream",
     "text": [
      "Prime numbers from 1 to 100: [2, 3, 5, 7, 11, 13, 17, 19, 23, 29, 31, 37, 41, 43, 47, 53, 59, 61, 67, 71, 73, 79, 83, 89, 97]\n"
     ]
    }
   ],
   "source": [
    "# 27 Create a function that returns a list of prime numbers from 1 to 100\n",
    "def get_primes():\n",
    "    primes = []\n",
    "    for num in range(2, 101):\n",
    "        for i in range(2, num):\n",
    "            if num % i == 0:\n",
    "                break\n",
    "        else:\n",
    "            primes.append(num)\n",
    "    return primes\n",
    "\n",
    "print(\"Prime numbers from 1 to 100:\", get_primes())\n"
   ]
  },
  {
   "cell_type": "code",
   "execution_count": 45,
   "id": "219613e6-58cd-4955-a764-ef94f480182e",
   "metadata": {},
   "outputs": [
    {
     "name": "stdin",
     "output_type": "stream",
     "text": [
      "Enter first number:  15 \n",
      "Enter second number:  10\n",
      "Enter operation (+, -, *, /):  -\n"
     ]
    },
    {
     "name": "stdout",
     "output_type": "stream",
     "text": [
      "Result: 5.0\n"
     ]
    }
   ],
   "source": [
    "# 28 Write a program to implement a simple calculator using functions\n",
    "def add(a, b): return a + b\n",
    "def sub(a, b): return a - b\n",
    "def mul(a, b): return a * b\n",
    "def div(a, b): return a / b if b != 0 else \"Division by zero\"\n",
    "\n",
    "a = float(input(\"Enter first number: \"))\n",
    "b = float(input(\"Enter second number: \"))\n",
    "op = input(\"Enter operation (+, -, *, /): \")\n",
    "\n",
    "if op == '+':\n",
    "    print(\"Result:\", add(a, b))\n",
    "elif op == '-':\n",
    "    print(\"Result:\", sub(a, b))\n",
    "elif op == '*':\n",
    "    print(\"Result:\", mul(a, b))\n",
    "elif op == '/':\n",
    "    print(\"Result:\", div(a, b))\n",
    "else:\n",
    "    print(\"Invalid operator\")\n"
   ]
  },
  {
   "cell_type": "code",
   "execution_count": 47,
   "id": "724f8420-16cc-4f2b-bc43-241e51f275b0",
   "metadata": {},
   "outputs": [
    {
     "name": "stdin",
     "output_type": "stream",
     "text": [
      "Enter a number:  7\n"
     ]
    },
    {
     "name": "stdout",
     "output_type": "stream",
     "text": [
      "Factorial: 5040\n"
     ]
    }
   ],
   "source": [
    "# 29 Implement a recursive function to compute factorial\n",
    "def factorial(n):\n",
    "    if n == 0 or n == 1:\n",
    "        return 1\n",
    "    else:\n",
    "        return n * factorial(n - 1)\n",
    "\n",
    "num = int(input(\"Enter a number: \"))\n",
    "print(\"Factorial:\", factorial(num))\n"
   ]
  },
  {
   "cell_type": "code",
   "execution_count": 50,
   "id": "4b2b618f-ae1d-4a06-beb5-c1f0f3860a4a",
   "metadata": {},
   "outputs": [
    {
     "name": "stdout",
     "output_type": "stream",
     "text": [
      "Name: Vaibahv Negi\n",
      "Roll: 101\n"
     ]
    }
   ],
   "source": [
    "# 30 Create a Python program using OOP for student management (class, object, init)\n",
    "class Student:\n",
    "    def __init__(self, name, roll):\n",
    "        self.name = name\n",
    "        self.roll = roll\n",
    "\n",
    "    def display(self):\n",
    "        print(\"Name:\", self.name)\n",
    "        print(\"Roll:\", self.roll)\n",
    "\n",
    "s1 = Student(\"Vaibahv Negi\", 101)\n",
    "s1.display()\n"
   ]
  },
  {
   "cell_type": "code",
   "execution_count": 1,
   "id": "1e0bd340-8bfc-48c2-90b0-54a3ca607ddb",
   "metadata": {},
   "outputs": [
    {
     "name": "stdout",
     "output_type": "stream",
     "text": [
      "Lines: 3\n",
      "Words: 73\n"
     ]
    }
   ],
   "source": [
    "# 31 Write a program to read a file and count the number of lines and words\n",
    "file = open(\"Uttarakhand.txt\", \"r\")\n",
    "lines = file.readlines()\n",
    "word_count = sum(len(line.split()) for line in lines)\n",
    "print(\"Lines:\", len(lines))\n",
    "print(\"Words:\", word_count)\n",
    "file.close()\n"
   ]
  },
  {
   "cell_type": "code",
   "execution_count": 3,
   "id": "3934bcae-e02a-4497-817b-21ed1448fd43",
   "metadata": {},
   "outputs": [
    {
     "name": "stdout",
     "output_type": "stream",
     "text": [
      "Execution time: 0.021216630935668945\n"
     ]
    }
   ],
   "source": [
    "# 32 Write a Python decorator to print the execution time of a function\n",
    "import time\n",
    "\n",
    "def timer(func):\n",
    "    def wrapper():\n",
    "        start = time.time()\n",
    "        func()\n",
    "        end = time.time()\n",
    "        print(\"Execution time:\", end - start)\n",
    "    return wrapper\n",
    "\n",
    "@timer\n",
    "def display():\n",
    "    for i in range(1000000):\n",
    "        pass\n",
    "\n",
    "display()\n"
   ]
  },
  {
   "cell_type": "code",
   "execution_count": 4,
   "id": "efbede78-3181-419f-a803-8498cc6b8256",
   "metadata": {},
   "outputs": [
    {
     "name": "stdout",
     "output_type": "stream",
     "text": [
      "Balance: 500\n"
     ]
    }
   ],
   "source": [
    "# 33 Create a class BankAccount with deposit and withdraw methods\n",
    "class BankAccount:\n",
    "    def __init__(self, balance=0):\n",
    "        self.balance = balance\n",
    "\n",
    "    def deposit(self, amount):\n",
    "        self.balance += amount\n",
    "\n",
    "    def withdraw(self, amount):\n",
    "        if amount <= self.balance:\n",
    "            self.balance -= amount\n",
    "        else:\n",
    "            print(\"Insufficient funds\")\n",
    "\n",
    "    def show_balance(self):\n",
    "        print(\"Balance:\", self.balance)\n",
    "\n",
    "acc = BankAccount()\n",
    "acc.deposit(1000)\n",
    "acc.withdraw(500)\n",
    "acc.show_balance()\n"
   ]
  },
  {
   "cell_type": "code",
   "execution_count": 5,
   "id": "bf89e9f3-1ff1-436e-8fe5-40beb9249624",
   "metadata": {},
   "outputs": [
    {
     "name": "stdin",
     "output_type": "stream",
     "text": [
      "Enter a number:  19\n"
     ]
    },
    {
     "name": "stdout",
     "output_type": "stream",
     "text": [
      "2 4 6 8 10 12 14 16 18 "
     ]
    }
   ],
   "source": [
    "# 34 Implement a generator to yield even numbers from 1 to n\n",
    "def even_gen(n):\n",
    "    for i in range(2, n+1, 2):\n",
    "        yield i\n",
    "\n",
    "n = int(input(\"Enter a number: \"))\n",
    "for even in even_gen(n):\n",
    "    print(even, end=' ')\n"
   ]
  },
  {
   "cell_type": "code",
   "execution_count": 9,
   "id": "2fab3ed0-43f6-4345-9d8d-0aa78813c0d3",
   "metadata": {},
   "outputs": [
    {
     "name": "stdout",
     "output_type": "stream",
     "text": [
      "Args: (10, 20)\n",
      "Kwargs: {'Name': 'Vaibhav Negi', 'age': 1}\n"
     ]
    }
   ],
   "source": [
    "# 35 Write a function using *args and **kwargs to print any number of arguments\n",
    "def show_all(*args, **kwargs):\n",
    "    print(\"Args:\", args)\n",
    "    print(\"Kwargs:\", kwargs)\n",
    "\n",
    "show_all(10, 20, Name=\"Vaibhav Negi\", age=1)\n"
   ]
  },
  {
   "cell_type": "code",
   "execution_count": 10,
   "id": "688c8db7-a0f8-4897-8278-3b31908e49aa",
   "metadata": {},
   "outputs": [
    {
     "name": "stdout",
     "output_type": "stream",
     "text": [
      "Squares of even numbers: [4, 16, 36, 64, 100, 144, 196, 256, 324, 400]\n"
     ]
    }
   ],
   "source": [
    "# 36 Use list comprehension to create a list of squares of even numbers from 1 to 20\n",
    "squares = [x**2 for x in range(1, 21) if x % 2 == 0]\n",
    "print(\"Squares of even numbers:\", squares)\n"
   ]
  },
  {
   "cell_type": "code",
   "execution_count": 11,
   "id": "b1f4b91d-4923-454a-ae4a-af80f4720e7a",
   "metadata": {},
   "outputs": [
    {
     "name": "stdin",
     "output_type": "stream",
     "text": [
      "Enter numbers:  1 5 8 3 1 4 5 6 7 1 \n"
     ]
    },
    {
     "name": "stdout",
     "output_type": "stream",
     "text": [
      "Unique items: [1, 3, 4, 5, 6, 7, 8]\n"
     ]
    }
   ],
   "source": [
    "# 37 Create a function that takes a list and returns only unique elements\n",
    "def unique_items(lst):\n",
    "    return list(set(lst))\n",
    "\n",
    "data = list(map(int, input(\"Enter numbers: \").split()))\n",
    "print(\"Unique items:\", unique_items(data))\n"
   ]
  },
  {
   "cell_type": "code",
   "execution_count": 12,
   "id": "cf60bf48-212c-4432-b74e-2524be84fa1d",
   "metadata": {},
   "outputs": [
    {
     "name": "stdout",
     "output_type": "stream",
     "text": [
      "Merged dictionary: {'a': 1, 'b': 3, 'c': 4}\n"
     ]
    }
   ],
   "source": [
    "# 38 Write a Python program to merge two dictionaries\n",
    "dict1 = {\"a\": 1, \"b\": 2}\n",
    "dict2 = {\"b\": 3, \"c\": 4}\n",
    "merged = {**dict1, **dict2}\n",
    "print(\"Merged dictionary:\", merged)\n"
   ]
  },
  {
   "cell_type": "code",
   "execution_count": 13,
   "id": "edc1c28b-d93d-4eaa-839f-f29e304acea3",
   "metadata": {},
   "outputs": [
    {
     "name": "stdout",
     "output_type": "stream",
     "text": [
      "Bark\n"
     ]
    }
   ],
   "source": [
    "# 39 Create a class that inherits from another class and overrides a method\n",
    "class Animal:\n",
    "    def sound(self):\n",
    "        print(\"Animal sound\")\n",
    "\n",
    "class Dog(Animal):\n",
    "    def sound(self):\n",
    "        print(\"Bark\")\n",
    "\n",
    "d = Dog()\n",
    "d.sound()\n"
   ]
  },
  {
   "cell_type": "code",
   "execution_count": 14,
   "id": "8147d416-28f4-4d91-a45d-c2d6d0a6b176",
   "metadata": {},
   "outputs": [
    {
     "name": "stdout",
     "output_type": "stream",
     "text": [
      "Common elements: [3, 4]\n"
     ]
    }
   ],
   "source": [
    "# 40 Write a function to find common elements between two lists\n",
    "def common_elements(a, b):\n",
    "    return list(set(a) & set(b))\n",
    "\n",
    "l1 = [1, 2, 3, 4]\n",
    "l2 = [3, 4, 5, 6]\n",
    "print(\"Common elements:\", common_elements(l1, l2))\n"
   ]
  },
  {
   "cell_type": "code",
   "execution_count": 16,
   "id": "3efa298d-bfeb-48ee-a3ae-1878200b0eb0",
   "metadata": {},
   "outputs": [
    {
     "name": "stdin",
     "output_type": "stream",
     "text": [
      "Enter a number:  15\n"
     ]
    },
    {
     "name": "stdout",
     "output_type": "stream",
     "text": [
      "Square: 225\n",
      "Program completed\n"
     ]
    }
   ],
   "source": [
    "# 41 Implement a program to demonstrate try-except-finally for exception handling\n",
    "try:\n",
    "    num = int(input(\"Enter a number: \"))\n",
    "    print(\"Square:\", num * num)\n",
    "except:\n",
    "    print(\"Invalid input\")\n",
    "finally:\n",
    "    print(\"Program completed\")\n"
   ]
  },
  {
   "cell_type": "code",
   "execution_count": 18,
   "id": "ee03a1fb-f568-41ba-8941-e8bde5834318",
   "metadata": {},
   "outputs": [
    {
     "name": "stdout",
     "output_type": "stream",
     "text": [
      "Name: Vaibhav\n",
      "Age: 1\n"
     ]
    }
   ],
   "source": [
    "# 42 Write a program to parse and display JSON data from a string\n",
    "import json\n",
    "data = '{\"name\": \"Vaibhav\", \"age\": 1}'\n",
    "obj = json.loads(data)\n",
    "print(\"Name:\", obj[\"name\"])\n",
    "print(\"Age:\", obj[\"age\"])\n"
   ]
  },
  {
   "cell_type": "code",
   "execution_count": 19,
   "id": "c39128ab-5256-4cb9-86d7-08f23959097b",
   "metadata": {},
   "outputs": [
    {
     "name": "stdout",
     "output_type": "stream",
     "text": [
      "I am protected\n",
      "I am private\n"
     ]
    }
   ],
   "source": [
    "# 43 Create a class that demonstrates the use of private and protected members\n",
    "class Demo:\n",
    "    def __init__(self):\n",
    "        self._protected = \"I am protected\"\n",
    "        self.__private = \"I am private\"\n",
    "\n",
    "    def show(self):\n",
    "        print(self._protected)\n",
    "        print(self.__private)\n",
    "\n",
    "d = Demo()\n",
    "d.show()\n"
   ]
  },
  {
   "cell_type": "code",
   "execution_count": 21,
   "id": "6fe3e765-7570-4ba4-bae9-cf251381d8fd",
   "metadata": {},
   "outputs": [
    {
     "name": "stdin",
     "output_type": "stream",
     "text": [
      "Enter email:  fake2020email@gmail.com\n"
     ]
    },
    {
     "name": "stdout",
     "output_type": "stream",
     "text": [
      "Valid email\n"
     ]
    }
   ],
   "source": [
    "# 44 Write a Python function to check if a string is a valid email address\n",
    "import re\n",
    "def is_valid_email(email):\n",
    "    pattern = r'^[\\w\\.-]+@[\\w\\.-]+\\.\\w+$'\n",
    "    return re.match(pattern, email)\n",
    "\n",
    "email = input(\"Enter email: \")\n",
    "print(\"Valid email\" if is_valid_email(email) else \"Invalid email\")\n"
   ]
  },
  {
   "cell_type": "code",
   "execution_count": 23,
   "id": "5b0336fe-c91a-474a-aeb6-0390d42419e2",
   "metadata": {},
   "outputs": [
    {
     "name": "stdout",
     "output_type": "stream",
     "text": [
      "[{'ï»¿Name': 'White', 'HEX': '#FFFFFF', 'RGB': 'rgb(100,100,100)'}, {'ï»¿Name': 'Silver', 'HEX': '#C0C0C0', 'RGB': 'rgb(75,75,75)'}, {'ï»¿Name': 'Gray', 'HEX': '#808080', 'RGB': 'rgb(50,50,50)'}]\n"
     ]
    }
   ],
   "source": [
    "# 45 Accept a CSV file and convert it into a list of dictionaries\n",
    "import csv\n",
    "with open(\"color_srgb.csv\") as file:\n",
    "    reader = csv.DictReader(file)\n",
    "    data = list(reader)\n",
    "print(data)\n"
   ]
  },
  {
   "cell_type": "code",
   "execution_count": 28,
   "id": "6a84cc7e-79b6-4bde-83c8-63ba765db180",
   "metadata": {},
   "outputs": [
    {
     "name": "stdin",
     "output_type": "stream",
     "text": [
      "Enter username:  Vaibhav\n",
      "Enter password:  1234\n"
     ]
    },
    {
     "name": "stdout",
     "output_type": "stream",
     "text": [
      "Login successful\n"
     ]
    }
   ],
   "source": [
    "# 46 Create a simple login system using dictionary and input\n",
    "users = {\"Vaibhav\": \"1234\", \"user\": \"abcd\"}\n",
    "username = input(\"Enter username: \")\n",
    "password = input(\"Enter password: \")\n",
    "if username in users and users[username] == password:\n",
    "    print(\"Login successful\")\n",
    "else:\n",
    "    print(\"Invalid credentials\")\n"
   ]
  },
  {
   "cell_type": "code",
   "execution_count": 29,
   "id": "99ee52b5-91c2-47d5-b039-c7933ef24ec5",
   "metadata": {},
   "outputs": [
    {
     "name": "stdout",
     "output_type": "stream",
     "text": [
      "Flattened list: [1, 2, 3, 4, 5, 6]\n"
     ]
    }
   ],
   "source": [
    "# 47 Write a function to flatten a nested list using recursion\n",
    "def flatten(lst):\n",
    "    result = []\n",
    "    for i in lst:\n",
    "        if isinstance(i, list):\n",
    "            result += flatten(i)\n",
    "        else:\n",
    "            result.append(i)\n",
    "    return result\n",
    "\n",
    "nested = [1, [2, [3, 4], 5], 6]\n",
    "print(\"Flattened list:\", flatten(nested))\n"
   ]
  },
  {
   "cell_type": "code",
   "execution_count": 30,
   "id": "4fbcfad0-8665-4d16-a7cd-a0961d89ef02",
   "metadata": {},
   "outputs": [
    {
     "name": "stdout",
     "output_type": "stream",
     "text": [
      "Squares: [1, 4, 9, 16, 25]\n",
      "Evens: [2, 4]\n",
      "Sum: 15\n"
     ]
    }
   ],
   "source": [
    "# 48 Demonstrate use of map(), filter(), and reduce() on a list\n",
    "from functools import reduce\n",
    "nums = [1, 2, 3, 4, 5]\n",
    "squares = list(map(lambda x: x*x, nums))\n",
    "evens = list(filter(lambda x: x % 2 == 0, nums))\n",
    "total = reduce(lambda x, y: x + y, nums)\n",
    "print(\"Squares:\", squares)\n",
    "print(\"Evens:\", evens)\n",
    "print(\"Sum:\", total)\n"
   ]
  },
  {
   "cell_type": "code",
   "execution_count": 31,
   "id": "7aba6847-5a7a-4709-8056-747f8b7e5020",
   "metadata": {},
   "outputs": [
    {
     "name": "stdout",
     "output_type": "stream",
     "text": [
      "1. Add\n",
      "2. Subtract\n",
      "3. Multiply\n",
      "4. Exit\n"
     ]
    },
    {
     "name": "stdin",
     "output_type": "stream",
     "text": [
      "Enter choice:  1\n",
      "Enter first number:  15\n",
      "Enter second number:  10\n"
     ]
    },
    {
     "name": "stdout",
     "output_type": "stream",
     "text": [
      "Sum: 25\n",
      "1. Add\n",
      "2. Subtract\n",
      "3. Multiply\n",
      "4. Exit\n"
     ]
    },
    {
     "name": "stdin",
     "output_type": "stream",
     "text": [
      "Enter choice:  4\n"
     ]
    }
   ],
   "source": [
    "# 49 Build a small CLI app that takes user input and performs basic operations\n",
    "while True:\n",
    "    print(\"1. Add\\n2. Subtract\\n3. Multiply\\n4. Exit\")\n",
    "    choice = input(\"Enter choice: \")\n",
    "    if choice == '4':\n",
    "        break\n",
    "    a = int(input(\"Enter first number: \"))\n",
    "    b = int(input(\"Enter second number: \"))\n",
    "    if choice == '1':\n",
    "        print(\"Sum:\", a + b)\n",
    "    elif choice == '2':\n",
    "        print(\"Difference:\", a - b)\n",
    "    elif choice == '3':\n",
    "        print(\"Product:\", a * b)\n",
    "    else:\n",
    "        print(\"Invalid option\")\n"
   ]
  },
  {
   "cell_type": "code",
   "execution_count": 32,
   "id": "659b58df-0b3e-49d2-884f-ed05da3bee77",
   "metadata": {},
   "outputs": [
    {
     "name": "stdin",
     "output_type": "stream",
     "text": [
      "What is the output of 2+2?  4\n",
      "What keyword is used to define a function?  def\n",
      "What symbol is used to comment in Python?  #\n"
     ]
    },
    {
     "name": "stdout",
     "output_type": "stream",
     "text": [
      "Your score: 3 / 3\n"
     ]
    }
   ],
   "source": [
    "# 50 Create a mini Python quiz that takes answers from the user and displays score\n",
    "questions = {\n",
    "    \"What is the output of 2+2? \": \"4\",\n",
    "    \"What keyword is used to define a function? \": \"def\",\n",
    "    \"What symbol is used to comment in Python? \": \"#\"\n",
    "}\n",
    "score = 0\n",
    "for q in questions:\n",
    "    ans = input(q)\n",
    "    if ans.strip().lower() == questions[q].lower():\n",
    "        score += 1\n",
    "print(\"Your score:\", score, \"/\", len(questions))\n"
   ]
  },
  {
   "cell_type": "code",
   "execution_count": null,
   "id": "94250882-72e7-4264-a148-6b308164e75b",
   "metadata": {},
   "outputs": [],
   "source": []
  }
 ],
 "metadata": {
  "kernelspec": {
   "display_name": "Python 3 (ipykernel)",
   "language": "python",
   "name": "python3"
  },
  "language_info": {
   "codemirror_mode": {
    "name": "ipython",
    "version": 3
   },
   "file_extension": ".py",
   "mimetype": "text/x-python",
   "name": "python",
   "nbconvert_exporter": "python",
   "pygments_lexer": "ipython3",
   "version": "3.12.7"
  }
 },
 "nbformat": 4,
 "nbformat_minor": 5
}
