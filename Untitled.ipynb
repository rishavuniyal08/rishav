{
 "cells": [
  {
   "cell_type": "code",
   "execution_count": 1,
   "id": "67c1cdc4-4188-4989-a58e-2f07130ec6b9",
   "metadata": {},
   "outputs": [
    {
     "name": "stdin",
     "output_type": "stream",
     "text": [
      "Enter a string: rishav\n"
     ]
    },
    {
     "name": "stdout",
     "output_type": "stream",
     "text": [
      "Reverse String: vahsir\n"
     ]
    }
   ],
   "source": [
    "# Reverse string\n",
    "string = input('Enter a string:')\n",
    "\n",
    "reverse_string = string[::-1]\n",
    "\n",
    "print('Reverse String:',reverse_string)"
   ]
  },
  {
   "cell_type": "code",
   "execution_count": 2,
   "id": "333dd0cc-e44a-4247-bb65-7d645a1d6da1",
   "metadata": {},
   "outputs": [
    {
     "name": "stdin",
     "output_type": "stream",
     "text": [
      "Enter a string: nitin\n"
     ]
    },
    {
     "name": "stdout",
     "output_type": "stream",
     "text": [
      "Palindrome\n"
     ]
    }
   ],
   "source": [
    "#Check for Palindrome\n",
    "string = input('Enter a string:')\n",
    "\n",
    "reverse_string = string[::-1]\n",
    "\n",
    "if string == reverse_string:\n",
    "    print('Palindrome')\n",
    "else:\n",
    "    print('Not Palindrome')\n",
    "    "
   ]
  },
  {
   "cell_type": "code",
   "execution_count": 3,
   "id": "4842c13a-ec9e-4689-b8e9-e24af2840b50",
   "metadata": {},
   "outputs": [
    {
     "name": "stdin",
     "output_type": "stream",
     "text": [
      "Enter a number: 5\n"
     ]
    },
    {
     "name": "stdout",
     "output_type": "stream",
     "text": [
      "Factorial of 5 is 120\n"
     ]
    }
   ],
   "source": [
    "#Find Factorial using Recursion\n",
    "def Factorial(n):\n",
    "  if n==0 or n==1:\n",
    "    return 1\n",
    "  else:\n",
    "    return n*Factorial(n-1)\n",
    "\n",
    "num = int(input('Enter a number:'))\n",
    "\n",
    "if num<0:\n",
    "  print('Factorial no. is not defined for negative numbers')\n",
    "else:\n",
    "  print('Factorial of',num,'is',Factorial(num))"
   ]
  },
  {
   "cell_type": "code",
   "execution_count": 4,
   "id": "2bf94125-5410-479b-9a82-eb9c0ad60886",
   "metadata": {},
   "outputs": [
    {
     "name": "stdin",
     "output_type": "stream",
     "text": [
      "Enter a number: 8\n"
     ]
    },
    {
     "name": "stdout",
     "output_type": "stream",
     "text": [
      "Fibonacci series of 8 is [0, 1, 1, 2, 3, 5, 8, 13]\n"
     ]
    }
   ],
   "source": [
    "#Fibonacci series\n",
    "def Fibonacci_series(n):\n",
    "  fib_series=[]\n",
    "  a,b=0,1\n",
    "  for i in range(n):\n",
    "    fib_series.append(a)\n",
    "    a,b=b,a+b\n",
    "  return fib_series\n",
    "\n",
    "num = int(input('Enter a number:'))\n",
    "\n",
    "print('Fibonacci series of',num,'is',Fibonacci_series(num))"
   ]
  },
  {
   "cell_type": "code",
   "execution_count": 5,
   "id": "f7c3c30f-975a-4b96-b4c7-109ba2cef879",
   "metadata": {},
   "outputs": [
    {
     "name": "stdin",
     "output_type": "stream",
     "text": [
      "Enter a number: 11\n"
     ]
    },
    {
     "name": "stdout",
     "output_type": "stream",
     "text": [
      "11 is a prime number.\n"
     ]
    }
   ],
   "source": [
    "#Check if number is a prime\n",
    "num = int(input('Enter a number:'))\n",
    "if num<=1:\n",
    "  print(f'{num} is not a prime number.')\n",
    "else:\n",
    "  for i in range(2, int(num**0.5)+1):\n",
    "    if num % i == 0:\n",
    "      print(f\"{num} is not a prime number.\")\n",
    "      break\n",
    "  else:\n",
    "    print(f\"{num} is a prime number.\")"
   ]
  },
  {
   "cell_type": "code",
   "execution_count": 6,
   "id": "f1fd3812-e771-427d-90f6-2f267bf8946c",
   "metadata": {},
   "outputs": [
    {
     "name": "stdin",
     "output_type": "stream",
     "text": [
      "Enter the first number: 128\n",
      "Enter the second number: 64\n"
     ]
    },
    {
     "name": "stdout",
     "output_type": "stream",
     "text": [
      "GCD of 128 and 64 is 64\n"
     ]
    }
   ],
   "source": [
    "#GCD of two numbers\n",
    "def gcd(a,b):\n",
    "  while b != 0:\n",
    "    a,b =b,a % b\n",
    "  return a\n",
    "n1 = int(input('Enter the first number:'))\n",
    "n2 = int(input('Enter the second number:'))\n",
    "print(f\"GCD of {n1} and {n2} is {gcd(n1,n2)}\")"
   ]
  },
  {
   "cell_type": "code",
   "execution_count": 7,
   "id": "dcc32648-340f-4ba3-b4d2-9faebabef8a8",
   "metadata": {},
   "outputs": [
    {
     "name": "stdin",
     "output_type": "stream",
     "text": [
      "Enter the string: rishav\n"
     ]
    },
    {
     "name": "stdout",
     "output_type": "stream",
     "text": [
      "Number of vowels in the string is 2\n"
     ]
    }
   ],
   "source": [
    "# Count vowels in the string\n",
    "text = input(\"Enter the string:\")\n",
    "vowels = \"aeiouAEIOU\"\n",
    "count = sum(text.count(vowel) for vowel in vowels)\n",
    "print(f\"Number of vowels in the string is {count}\")"
   ]
  },
  {
   "cell_type": "code",
   "execution_count": 8,
   "id": "c26ae7b6-bd24-41e0-944d-555112ede1de",
   "metadata": {},
   "outputs": [
    {
     "name": "stdout",
     "output_type": "stream",
     "text": [
      "Duplicate elements in the list are []\n"
     ]
    }
   ],
   "source": [
    "# Duplicate elements in a list\n",
    "\n",
    "def fin_duplicates(lst):\n",
    "  seen=set()\n",
    "  duplicates = set()\n",
    "  for item in lst:\n",
    "    if item in seen:\n",
    "      duplicates.add(item)\n",
    "    else:\n",
    "      seen.add(item)\n",
    "    return list(duplicates)\n",
    "my_list = [1,2,3,4,5,6,5,2,6,3,2]\n",
    "print(f\"Duplicate elements in the list are {fin_duplicates(my_list)}\")"
   ]
  },
  {
   "cell_type": "code",
   "execution_count": 9,
   "id": "f149e6dc-ff2e-4dcb-afa1-0b09ce1d615d",
   "metadata": {},
   "outputs": [
    {
     "name": "stdin",
     "output_type": "stream",
     "text": [
      "Enter first string:  rishav\n",
      "Enter second string:  uniyal\n"
     ]
    },
    {
     "name": "stdout",
     "output_type": "stream",
     "text": [
      "The strings are not anagrams.\n"
     ]
    }
   ],
   "source": [
    "# Check if Two Strings are Anagrams\n",
    "def are_anagrams(str1, str2):\n",
    "    str1 = str1.replace(\" \", \"\").lower()\n",
    "    str2 = str2.replace(\" \", \"\").lower()\n",
    "\n",
    "    return sorted(str1) == sorted(str2)\n",
    "\n",
    "\n",
    "string1 = input(\"Enter first string: \")\n",
    "string2 = input(\"Enter second string: \")\n",
    "\n",
    "if are_anagrams(string1, string2):\n",
    "    print(\"The strings are anagrams.\")\n",
    "else:\n",
    "    print(\"The strings are not anagrams.\")\n"
   ]
  },
  {
   "cell_type": "code",
   "execution_count": 10,
   "id": "89e03ad8-ebbe-4083-8cff-368507bae5cb",
   "metadata": {},
   "outputs": [
    {
     "name": "stdin",
     "output_type": "stream",
     "text": [
      "Enter sorted list 1 (space-separated):  8 6 7 9 4 2 5 1\n",
      "Enter sorted list 2 (space-separated):  3 5 6 7 8 5 9 4\n"
     ]
    },
    {
     "name": "stdout",
     "output_type": "stream",
     "text": [
      "Merged sorted list: [3, 5, 6, 7, 8, 6, 7, 8, 5, 9, 4, 2, 5, 1, 9, 4]\n"
     ]
    }
   ],
   "source": [
    "# Merge Two Sorted Lists\n",
    "\n",
    "def merge_sorted_lists(list1, list2):\n",
    "    merged_list = []\n",
    "    i = j = 0\n",
    "\n",
    "    while i < len(list1) and j < len(list2):\n",
    "        if list1[i] <= list2[j]:\n",
    "            merged_list.append(list1[i])\n",
    "            i += 1\n",
    "        else:\n",
    "            merged_list.append(list2[j])\n",
    "            j += 1\n",
    "\n",
    "\n",
    "    merged_list.extend(list1[i:])\n",
    "    merged_list.extend(list2[j:])\n",
    "\n",
    "    return merged_list\n",
    "\n",
    "\n",
    "list1 = list(map(int, input(\"Enter sorted list 1 (space-separated): \").split()))\n",
    "list2 = list(map(int, input(\"Enter sorted list 2 (space-separated): \").split()))\n",
    "\n",
    "\n",
    "result = merge_sorted_lists(list1, list2)\n",
    "print(\"Merged sorted list:\", result)"
   ]
  },
  {
   "cell_type": "code",
   "execution_count": 11,
   "id": "1561c96f-6b72-447b-ba93-758a2975fa49",
   "metadata": {},
   "outputs": [
    {
     "name": "stdin",
     "output_type": "stream",
     "text": [
      "Enter a number: 123\n"
     ]
    },
    {
     "name": "stdout",
     "output_type": "stream",
     "text": [
      "123 is not an Armstrong number.\n"
     ]
    }
   ],
   "source": [
    "# Armstrong number\n",
    "num = int(input('Enter a number:'))\n",
    "\n",
    "num_str = str(num)\n",
    "n = len(num_str)\n",
    "\n",
    "sum_of_power = sum(int(digit) ** n for digit in num_str)\n",
    "\n",
    "if sum_of_power == num:\n",
    "    print(f\"{num} is an Armstrong number.\")\n",
    "else:\n",
    "    print(f\"{num} is not an Armstrong number.\")"
   ]
  },
  {
   "cell_type": "code",
   "execution_count": 12,
   "id": "30ad774a-e51d-4830-9884-288aee7e7bfd",
   "metadata": {},
   "outputs": [
    {
     "name": "stdin",
     "output_type": "stream",
     "text": [
      "Enter a sentence:  raman sir\n"
     ]
    },
    {
     "name": "stdout",
     "output_type": "stream",
     "text": [
      "The sentence is not a pangram.\n"
     ]
    }
   ],
   "source": [
    "# Check if a String is a Pangram\n",
    "import string\n",
    "\n",
    "def is_pangram(sentence):\n",
    "\n",
    "    sentence = sentence.lower()\n",
    "\n",
    "\n",
    "    alphabet = set(string.ascii_lowercase)\n",
    "\n",
    "\n",
    "    sentence_set = set(sentence)\n",
    "\n",
    "    return alphabet.issubset(sentence_set)\n",
    "\n",
    "\n",
    "text = input(\"Enter a sentence: \")\n",
    "\n",
    "if is_pangram(text):\n",
    "    print(\"The sentence is a pangram.\")\n",
    "else:\n",
    "    print(\"The sentence is not a pangram.\")\n"
   ]
  },
  {
   "cell_type": "code",
   "execution_count": 14,
   "id": "f105c6dd-15bb-4f78-a176-b0575b63c8cb",
   "metadata": {},
   "outputs": [
    {
     "name": "stdin",
     "output_type": "stream",
     "text": [
      "Enter the items :  4,6,7,9,8,6,4,2,1\n"
     ]
    },
    {
     "name": "stdout",
     "output_type": "stream",
     "text": [
      "List with duplicates removed: ['4,6,7,9,8,6,4,2,1']\n"
     ]
    }
   ],
   "source": [
    "# Remove Duplicates from a List\n",
    "\n",
    "items = input(\"Enter the items : \").split()\n",
    "\n",
    "unique_items = list(set(items))\n",
    "\n",
    "print(\"List with duplicates removed:\", unique_items)"
   ]
  },
  {
   "cell_type": "code",
   "execution_count": 15,
   "id": "a3bd1aba-6839-4dd9-8281-e597c674d05d",
   "metadata": {},
   "outputs": [
    {
     "name": "stdin",
     "output_type": "stream",
     "text": [
      "Enter the numbers (space-separated):  99\n"
     ]
    },
    {
     "name": "stdout",
     "output_type": "stream",
     "text": [
      "There is no second largest number.\n"
     ]
    }
   ],
   "source": [
    "# Find the Second Largest Number in a List\n",
    "num = list(map(int, input(\"Enter the numbers (space-separated): \").split()))\n",
    "\n",
    "first = second = float('-inf')\n",
    "\n",
    "for n in num:\n",
    "  if n > first:\n",
    "    second = first\n",
    "    first = num\n",
    "  elif first > num > second:\n",
    "    second = num\n",
    "\n",
    "if second == float('-inf'):\n",
    "  print(\"There is no second largest number.\")\n",
    "else:\n",
    "  print(\"The second largest number is:\", second)"
   ]
  },
  {
   "cell_type": "code",
   "execution_count": 16,
   "id": "e400ab6f-9c85-47ed-a4da-26061bee6559",
   "metadata": {},
   "outputs": [
    {
     "name": "stdin",
     "output_type": "stream",
     "text": [
      "Enter the elements:  iitm me galt le liya admission yr\n"
     ]
    },
    {
     "name": "stdout",
     "output_type": "stream",
     "text": [
      "Element counts\n",
      "iitm: 1\n",
      "me: 1\n",
      "galt: 1\n",
      "le: 1\n",
      "liya: 1\n",
      "admission: 1\n",
      "yr: 1\n"
     ]
    }
   ],
   "source": [
    "#Count Occurrences of Elements in a List\n",
    "\n",
    "elements = input(\"Enter the elements: \").split()\n",
    "\n",
    "element_count = {}\n",
    "\n",
    "for element in elements:\n",
    "    if element in element_count:\n",
    "        element_count[element] += 1\n",
    "    else:\n",
    "        element_count[element] = 1\n",
    "\n",
    "print(\"Element counts\")\n",
    "for element, count in element_count.items():\n",
    "    print(f\"{element}: {count}\")"
   ]
  },
  {
   "cell_type": "code",
   "execution_count": 22,
   "id": "b78a00b2-e79a-4002-be89-66ed0f735403",
   "metadata": {},
   "outputs": [
    {
     "name": "stdin",
     "output_type": "stream",
     "text": [
      "Enter the number of rows:  2\n",
      "Enter the number of columns:  2\n"
     ]
    },
    {
     "name": "stdout",
     "output_type": "stream",
     "text": [
      "Enter the matrix row by row:\n"
     ]
    },
    {
     "name": "stdin",
     "output_type": "stream",
     "text": [
      " 3 4\n",
      " 7 6\n"
     ]
    },
    {
     "name": "stdout",
     "output_type": "stream",
     "text": [
      "Transpose of the matrix:\n",
      "[3, 7]\n",
      "[4, 6]\n"
     ]
    }
   ],
   "source": [
    "# Transpose a Matrix\n",
    "\n",
    "\n",
    "rows = int(input(\"Enter the number of rows: \"))\n",
    "cols = int(input(\"Enter the number of columns: \"))\n",
    "\n",
    "print(\"Enter the matrix row by row:\")\n",
    "matrix = []\n",
    "for i in range(rows):\n",
    "  row = list(map(int,input().split()))\n",
    "  matrix.append(row)\n",
    "\n",
    "transpose = []\n",
    "for j in range(cols):\n",
    "  transpose_row=[]\n",
    "  for i in range(rows):\n",
    "     transpose_row.append(matrix[i][j])\n",
    "  transpose.append(transpose_row)\n",
    "\n",
    "print(\"Transpose of the matrix:\")\n",
    "for row in transpose:\n",
    "  print(row)"
   ]
  },
  {
   "cell_type": "code",
   "execution_count": 23,
   "id": "7046b2fc-8172-486e-8f33-254ad90ed2fe",
   "metadata": {},
   "outputs": [
    {
     "name": "stdin",
     "output_type": "stream",
     "text": [
      "Enter the first list:  iitm ek jhantu cllg hai\n",
      "Enter the second list:  par iitm ek eesa cllg hai jaha ladkiya bhi nhi hai\n"
     ]
    },
    {
     "name": "stdout",
     "output_type": "stream",
     "text": [
      "Intersection of the lists: ['hai', 'iitm', 'ek', 'cllg']\n"
     ]
    }
   ],
   "source": [
    "# Find Intersection of Two Lists\n",
    "\n",
    "list1 = input(\"Enter the first list: \").split()\n",
    "list2 = input(\"Enter the second list: \").split()\n",
    "\n",
    "intersection = list(set(list1) & set(list2))\n",
    "\n",
    "print(\"Intersection of the lists:\", intersection)"
   ]
  },
  {
   "cell_type": "code",
   "execution_count": 24,
   "id": "0cceb9ad-c1d7-4598-8fe6-cc07a1221093",
   "metadata": {},
   "outputs": [
    {
     "name": "stdout",
     "output_type": "stream",
     "text": [
      "Flattened list: [1, 2, 3, 4, 5, 6]\n"
     ]
    }
   ],
   "source": [
    "# Flatten a Nested List\n",
    "\n",
    "nested_list = [[1,2], [3,4], [5,6]]\n",
    "\n",
    "flattened_list=[]\n",
    "for sublist in nested_list:\n",
    "  flattened_list.extend(sublist)\n",
    "\n",
    "print(\"Flattened list:\", flattened_list)"
   ]
  },
  {
   "cell_type": "code",
   "execution_count": null,
   "id": "2e8e7178-4e76-4103-bbe6-4c9d31617623",
   "metadata": {},
   "outputs": [],
   "source": []
  },
  {
   "cell_type": "code",
   "execution_count": 25,
   "id": "5eb470e9-f2d8-44ae-996e-816990a9b0b1",
   "metadata": {},
   "outputs": [
    {
     "name": "stdin",
     "output_type": "stream",
     "text": [
      "Enter a string:  iitm me galt le liya admission\n"
     ]
    },
    {
     "name": "stdout",
     "output_type": "stream",
     "text": [
      "Number of words in the string: 6\n"
     ]
    }
   ],
   "source": [
    "# Count Number of Words in a String\n",
    "\n",
    "text = input(\"Enter a string: \")\n",
    "\n",
    "word_count = len(text.split())\n",
    "\n",
    "print(\"Number of words in the string:\", word_count)\n"
   ]
  },
  {
   "cell_type": "code",
   "execution_count": null,
   "id": "34a36005-d4af-4ce1-8915-5abbfddbf4fd",
   "metadata": {},
   "outputs": [],
   "source": []
  }
 ],
 "metadata": {
  "kernelspec": {
   "display_name": "Python 3 (ipykernel)",
   "language": "python",
   "name": "python3"
  },
  "language_info": {
   "codemirror_mode": {
    "name": "ipython",
    "version": 3
   },
   "file_extension": ".py",
   "mimetype": "text/x-python",
   "name": "python",
   "nbconvert_exporter": "python",
   "pygments_lexer": "ipython3",
   "version": "3.13.5"
  }
 },
 "nbformat": 4,
 "nbformat_minor": 5
}
