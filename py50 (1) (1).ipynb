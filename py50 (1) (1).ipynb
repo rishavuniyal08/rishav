{
 "cells": [
  {
   "cell_type": "code",
   "execution_count": 1,
   "id": "6f4f8651-ffd0-4ba7-92b0-802f7cf603a1",
   "metadata": {},
   "outputs": [
    {
     "name": "stdin",
     "output_type": "stream",
     "text": [
      "Enter first number:  23\n",
      "Enter second number:  45\n",
      "Enter third number:  44\n"
     ]
    },
    {
     "name": "stdout",
     "output_type": "stream",
     "text": [
      "Largest number is: 45\n"
     ]
    }
   ],
   "source": [
    "a = int(input(\"Enter first number: \"))\n",
    "b = int(input(\"Enter second number: \"))\n",
    "c = int(input(\"Enter third number: \"))\n",
    "print(\"Largest number is:\", max(a, b, c))\n"
   ]
  },
  {
   "cell_type": "code",
   "execution_count": 2,
   "id": "e39d6649-b9ed-489e-b74c-75e72c3b10a1",
   "metadata": {},
   "outputs": [
    {
     "name": "stdin",
     "output_type": "stream",
     "text": [
      "Enter a number:  6\n"
     ]
    },
    {
     "name": "stdout",
     "output_type": "stream",
     "text": [
      "Even\n"
     ]
    }
   ],
   "source": [
    "num = int(input(\"Enter a number: \"))\n",
    "if num % 2 == 0:\n",
    "    print(\"Even\")\n",
    "else:\n",
    "    print(\"Odd\")\n"
   ]
  },
  {
   "cell_type": "code",
   "execution_count": 3,
   "id": "6219ba66-98e0-47c1-a43a-fba3c11eb435",
   "metadata": {},
   "outputs": [
    {
     "name": "stdin",
     "output_type": "stream",
     "text": [
      "Enter a string:  rishav\n"
     ]
    },
    {
     "name": "stdout",
     "output_type": "stream",
     "text": [
      "Reversed string: vahsir\n"
     ]
    }
   ],
   "source": [
    "s = input(\"Enter a string: \")\n",
    "print(\"Reversed string:\", s[::-1])\n"
   ]
  },
  {
   "cell_type": "code",
   "execution_count": 4,
   "id": "91dadbe1-e3ab-439b-b4ab-81a6ca58a474",
   "metadata": {},
   "outputs": [
    {
     "name": "stdin",
     "output_type": "stream",
     "text": [
      "Enter a string:  rishav uniya\n"
     ]
    },
    {
     "name": "stdout",
     "output_type": "stream",
     "text": [
      "Number of vowels: 5\n"
     ]
    }
   ],
   "source": [
    "s = input(\"Enter a string: \")\n",
    "vowels = \"aeiouAEIOU\"\n",
    "count = sum(1 for char in s if char in vowels)\n",
    "print(\"Number of vowels:\", count)\n"
   ]
  },
  {
   "cell_type": "code",
   "execution_count": 5,
   "id": "6523f9b9-77e0-42be-ac68-f6f729a03d7c",
   "metadata": {},
   "outputs": [
    {
     "name": "stdin",
     "output_type": "stream",
     "text": [
      "Enter first number:  76\n",
      "Enter second number:  99\n",
      "Enter operation (+, -, *, /):  *\n"
     ]
    },
    {
     "name": "stdout",
     "output_type": "stream",
     "text": [
      "Result: 7524.0\n"
     ]
    }
   ],
   "source": [
    "a = float(input(\"Enter first number: \"))\n",
    "b = float(input(\"Enter second number: \"))\n",
    "op = input(\"Enter operation (+, -, *, /): \")\n",
    "\n",
    "if op == '+':\n",
    "    print(\"Result:\", a + b)\n",
    "elif op == '-':\n",
    "    print(\"Result:\", a - b)\n",
    "elif op == '*':\n",
    "    print(\"Result:\", a * b)\n",
    "elif op == '/':\n",
    "    print(\"Result:\", a / b)\n",
    "else:\n",
    "    print(\"Invalid operation\")\n"
   ]
  },
  {
   "cell_type": "code",
   "execution_count": 6,
   "id": "28b79bc5-86fa-4b3f-a862-cb85a9b4b906",
   "metadata": {},
   "outputs": [
    {
     "name": "stdin",
     "output_type": "stream",
     "text": [
      "Enter a number:  73\n"
     ]
    },
    {
     "name": "stdout",
     "output_type": "stream",
     "text": [
      "Prime\n"
     ]
    }
   ],
   "source": [
    "num = int(input(\"Enter a number: \"))\n",
    "if num > 1:\n",
    "    for i in range(2, int(num**0.5)+1):\n",
    "        if num % i == 0:\n",
    "            print(\"Not Prime\")\n",
    "            break\n",
    "    else:\n",
    "        print(\"Prime\")\n",
    "else:\n",
    "    print(\"Not Prime\")\n"
   ]
  },
  {
   "cell_type": "code",
   "execution_count": 7,
   "id": "d3e76c31-34ad-41f7-91bf-bb7d9773bb36",
   "metadata": {},
   "outputs": [
    {
     "name": "stdin",
     "output_type": "stream",
     "text": [
      "Enter a number:  9\n"
     ]
    },
    {
     "name": "stdout",
     "output_type": "stream",
     "text": [
      "9 x 1 = 9\n",
      "9 x 2 = 18\n",
      "9 x 3 = 27\n",
      "9 x 4 = 36\n",
      "9 x 5 = 45\n",
      "9 x 6 = 54\n",
      "9 x 7 = 63\n",
      "9 x 8 = 72\n",
      "9 x 9 = 81\n",
      "9 x 10 = 90\n"
     ]
    }
   ],
   "source": [
    "num = int(input(\"Enter a number: \"))\n",
    "for i in range(1, 11):\n",
    "    print(f\"{num} x {i} = {num*i}\")\n"
   ]
  },
  {
   "cell_type": "code",
   "execution_count": 9,
   "id": "719f5851-0075-49ad-8595-a3ad9114dd4c",
   "metadata": {},
   "outputs": [
    {
     "name": "stdin",
     "output_type": "stream",
     "text": [
      "Enter number of terms:  3\n"
     ]
    },
    {
     "name": "stdout",
     "output_type": "stream",
     "text": [
      "0 1 1 "
     ]
    }
   ],
   "source": [
    "n = int(input(\"Enter number of terms: \"))\n",
    "a, b = 0, 1\n",
    "for _ in range(n):\n",
    "    print(a, end=' ')\n",
    "    a, b = b, a + b\n"
   ]
  },
  {
   "cell_type": "code",
   "execution_count": 10,
   "id": "abe94297-de73-457a-8972-e8bf83c48aa7",
   "metadata": {},
   "outputs": [
    {
     "name": "stdin",
     "output_type": "stream",
     "text": [
      "Enter a number:  3\n"
     ]
    },
    {
     "name": "stdout",
     "output_type": "stream",
     "text": [
      "Factorial: 6\n"
     ]
    }
   ],
   "source": [
    "num = int(input(\"Enter a number: \"))\n",
    "fact = 1\n",
    "for i in range(1, num + 1):\n",
    "    fact *= i\n",
    "print(\"Factorial:\", fact)\n"
   ]
  },
  {
   "cell_type": "code",
   "execution_count": 11,
   "id": "cdd4f689-7165-4733-81c2-eea1ff81c47b",
   "metadata": {},
   "outputs": [
    {
     "name": "stdin",
     "output_type": "stream",
     "text": [
      "Enter a number:  125\n"
     ]
    },
    {
     "name": "stdout",
     "output_type": "stream",
     "text": [
      "Not Palindrome\n"
     ]
    }
   ],
   "source": [
    "num = input(\"Enter a number: \")\n",
    "if num == num[::-1]:\n",
    "    print(\"Palindrome\")\n",
    "else:\n",
    "    print(\"Not Palindrome\")\n"
   ]
  },
  {
   "cell_type": "code",
   "execution_count": 12,
   "id": "65bbab02-d07b-47ce-8162-61bac9f9e85f",
   "metadata": {},
   "outputs": [
    {
     "name": "stdin",
     "output_type": "stream",
     "text": [
      "Enter a number:  76\n"
     ]
    },
    {
     "name": "stdout",
     "output_type": "stream",
     "text": [
      "Sum of digits: 13\n"
     ]
    }
   ],
   "source": [
    "num = int(input(\"Enter a number: \"))\n",
    "total = 0\n",
    "while num > 0:\n",
    "    total += num % 10\n",
    "    num //= 10\n",
    "print(\"Sum of digits:\", total)\n"
   ]
  },
  {
   "cell_type": "code",
   "execution_count": 13,
   "id": "333b4734-683e-4ce5-a678-53df7a1fd0d3",
   "metadata": {},
   "outputs": [
    {
     "name": "stdin",
     "output_type": "stream",
     "text": [
      "Enter temperature in Celsius:  99\n"
     ]
    },
    {
     "name": "stdout",
     "output_type": "stream",
     "text": [
      "Fahrenheit: 210.2\n"
     ]
    }
   ],
   "source": [
    "c = float(input(\"Enter temperature in Celsius: \"))\n",
    "f = (c * 9/5) + 32\n",
    "print(\"Fahrenheit:\", f)\n"
   ]
  },
  {
   "cell_type": "code",
   "execution_count": 14,
   "id": "1e8e3f9e-8ad2-4060-9c31-3e58c24905dc",
   "metadata": {},
   "outputs": [
    {
     "name": "stdin",
     "output_type": "stream",
     "text": [
      "Enter first number:  56\n",
      "Enter second number:  66\n"
     ]
    },
    {
     "name": "stdout",
     "output_type": "stream",
     "text": [
      "Maximum: 66\n"
     ]
    }
   ],
   "source": [
    "def find_max(a, b):\n",
    "    return a if a > b else b\n",
    "\n",
    "x = int(input(\"Enter first number: \"))\n",
    "y = int(input(\"Enter second number: \"))\n",
    "print(\"Maximum:\", find_max(x, y))\n"
   ]
  },
  {
   "cell_type": "code",
   "execution_count": 15,
   "id": "55404cca-9c63-40d7-ba60-84f968b298e2",
   "metadata": {},
   "outputs": [
    {
     "name": "stdin",
     "output_type": "stream",
     "text": [
      "Enter numbers separated by space:  3 4 5 6 8\n"
     ]
    },
    {
     "name": "stdout",
     "output_type": "stream",
     "text": [
      "Average: 5.2\n"
     ]
    }
   ],
   "source": [
    "nums = list(map(int, input(\"Enter numbers separated by space: \").split()))\n",
    "avg = sum(nums) / len(nums)\n",
    "print(\"Average:\", avg)\n"
   ]
  },
  {
   "cell_type": "code",
   "execution_count": 16,
   "id": "29112c2d-fea5-49f7-82b1-4906aa1956ab",
   "metadata": {},
   "outputs": [
    {
     "name": "stdin",
     "output_type": "stream",
     "text": [
      "Enter numbers separated by space:  6 7 9 2 4 \n"
     ]
    },
    {
     "name": "stdout",
     "output_type": "stream",
     "text": [
      "Second largest: 7\n"
     ]
    }
   ],
   "source": [
    "nums = list(map(int, input(\"Enter numbers separated by space: \").split()))\n",
    "unique_nums = list(set(nums))\n",
    "unique_nums.sort()\n",
    "if len(unique_nums) >= 2:\n",
    "    print(\"Second largest:\", unique_nums[-2])\n",
    "else:\n",
    "    print(\"Not enough elements\")\n"
   ]
  },
  {
   "cell_type": "code",
   "execution_count": 17,
   "id": "56a958ac-19cd-4748-b1fa-16fc76348e6f",
   "metadata": {},
   "outputs": [
    {
     "name": "stdin",
     "output_type": "stream",
     "text": [
      "Enter a sentence:  rishav uniya\n"
     ]
    },
    {
     "name": "stdout",
     "output_type": "stream",
     "text": [
      "Number of words: 2\n"
     ]
    }
   ],
   "source": [
    "sentence = input(\"Enter a sentence: \")\n",
    "words = sentence.split()\n",
    "print(\"Number of words:\", len(words))\n"
   ]
  },
  {
   "cell_type": "code",
   "execution_count": 21,
   "id": "10dfd093-7261-414d-b764-a01c99785080",
   "metadata": {},
   "outputs": [
    {
     "name": "stdin",
     "output_type": "stream",
     "text": [
      "Enter list elements separated by space:  84 5 6 \n"
     ]
    },
    {
     "name": "stdout",
     "output_type": "stream",
     "text": [
      "List without duplicates: [84, 5, 6]\n"
     ]
    }
   ],
   "source": [
    "lst = list(map(int, input(\"Enter list elements separated by space: \").split()))\n",
    "unique_lst = list(set(lst))\n",
    "print(\"List without duplicates:\", unique_lst)\n"
   ]
  },
  {
   "cell_type": "code",
   "execution_count": 22,
   "id": "ad48e3fe-5461-4050-8493-ef11d42f71f9",
   "metadata": {},
   "outputs": [
    {
     "name": "stdin",
     "output_type": "stream",
     "text": [
      "Enter keys separated by space:  name age city\n",
      "Enter values separated by space:  rishav 20 srinagar\n"
     ]
    },
    {
     "name": "stdout",
     "output_type": "stream",
     "text": [
      "Dictionary: {'name': 'rishav', 'age': '20', 'city': 'srinagar'}\n"
     ]
    }
   ],
   "source": [
    "keys = input(\"Enter keys separated by space: \").split()\n",
    "values = input(\"Enter values separated by space: \").split()\n",
    "dictionary = dict(zip(keys, values))\n",
    "print(\"Dictionary:\", dictionary)\n"
   ]
  },
  {
   "cell_type": "code",
   "execution_count": 23,
   "id": "1d8b8c62-73d8-4eb9-9d37-24567f24877b",
   "metadata": {},
   "outputs": [
    {
     "name": "stdin",
     "output_type": "stream",
     "text": [
      "Enter list elements separated by space:  8 7 5 6 4 3 1\n"
     ]
    },
    {
     "name": "stdout",
     "output_type": "stream",
     "text": [
      "Sorted list: [1, 3, 4, 5, 6, 7, 8]\n"
     ]
    }
   ],
   "source": [
    "lst = list(map(int, input(\"Enter list elements separated by space: \").split()))\n",
    "for i in range(len(lst)):\n",
    "    for j in range(i + 1, len(lst)):\n",
    "        if lst[i] > lst[j]:\n",
    "            lst[i], lst[j] = lst[j], lst[i]\n",
    "print(\"Sorted list:\", lst)\n"
   ]
  },
  {
   "cell_type": "code",
   "execution_count": 24,
   "id": "68284086-3569-454e-8b13-52d4e54556c6",
   "metadata": {},
   "outputs": [
    {
     "name": "stdin",
     "output_type": "stream",
     "text": [
      "Enter a string:  The quick brown fox jumps over the lazy dog\n"
     ]
    },
    {
     "name": "stdout",
     "output_type": "stream",
     "text": [
      "Pangram\n"
     ]
    }
   ],
   "source": [
    "import string\n",
    "\n",
    "def is_pangram(s):\n",
    "    alphabet = set(string.ascii_lowercase)\n",
    "    return set(s.lower()) >= alphabet\n",
    "\n",
    "s = input(\"Enter a string: \")\n",
    "print(\"Pangram\" if is_pangram(s) else \"Not Pangram\")\n"
   ]
  },
  {
   "cell_type": "code",
   "execution_count": 25,
   "id": "5341da3d-22f6-42c8-8372-6ed575ff4d93",
   "metadata": {},
   "outputs": [
    {
     "name": "stdin",
     "output_type": "stream",
     "text": [
      "Enter something:  jdhf6\n"
     ]
    },
    {
     "name": "stdout",
     "output_type": "stream",
     "text": [
      "Not a number\n"
     ]
    }
   ],
   "source": [
    "def is_number(s):\n",
    "    try:\n",
    "        float(s)\n",
    "        return True\n",
    "    except ValueError:\n",
    "        return False\n",
    "\n",
    "x = input(\"Enter something: \")\n",
    "print(\"Number\" if is_number(x) else \"Not a number\")\n"
   ]
  },
  {
   "cell_type": "code",
   "execution_count": 26,
   "id": "68643fa7-f1f7-4b19-abd3-ff15e27a63bf",
   "metadata": {},
   "outputs": [
    {
     "name": "stdin",
     "output_type": "stream",
     "text": [
      "Enter first string:  listen,ssilent\n",
      "Enter second string:  silent\n"
     ]
    },
    {
     "name": "stdout",
     "output_type": "stream",
     "text": [
      "Not Anagram\n"
     ]
    }
   ],
   "source": [
    "str1 = input(\"Enter first string: \").replace(\" \", \"\").lower()\n",
    "str2 = input(\"Enter second string: \").replace(\" \", \"\").lower()\n",
    "\n",
    "if sorted(str1) == sorted(str2):\n",
    "    print(\"Anagram\")\n",
    "else:\n",
    "    print(\"Not Anagram\")\n"
   ]
  },
  {
   "cell_type": "code",
   "execution_count": 27,
   "id": "39572ed1-e676-4f0f-a5dc-32ed17037a6d",
   "metadata": {},
   "outputs": [
    {
     "name": "stdin",
     "output_type": "stream",
     "text": [
      "Enter a number:  11\n"
     ]
    },
    {
     "name": "stdout",
     "output_type": "stream",
     "text": [
      "Binary: 0b1011\n",
      "Octal: 0o13\n",
      "Hexadecimal: 0xb\n"
     ]
    }
   ],
   "source": [
    "num = int(input(\"Enter a number: \"))\n",
    "print(\"Binary:\", bin(num))\n",
    "print(\"Octal:\", oct(num))\n",
    "print(\"Hexadecimal:\", hex(num))\n"
   ]
  },
  {
   "cell_type": "code",
   "execution_count": 28,
   "id": "e2dcc162-93d2-42e2-8d5d-c09db3be1cc7",
   "metadata": {},
   "outputs": [
    {
     "name": "stdin",
     "output_type": "stream",
     "text": [
      "Enter numbers separated by space:  4 5 7 8 9\n"
     ]
    },
    {
     "name": "stdout",
     "output_type": "stream",
     "text": [
      "Elements greater than 50: []\n"
     ]
    }
   ],
   "source": [
    "lst = list(map(int, input(\"Enter numbers separated by space: \").split()))\n",
    "greater = [x for x in lst if x > 50]\n",
    "print(\"Elements greater than 50:\", greater)\n"
   ]
  },
  {
   "cell_type": "code",
   "execution_count": 30,
   "id": "623b5069-447a-4005-b178-ee242a2582f8",
   "metadata": {},
   "outputs": [
    {
     "name": "stdin",
     "output_type": "stream",
     "text": [
      "Enter a string:  RISHAV uniyal\n"
     ]
    },
    {
     "name": "stdout",
     "output_type": "stream",
     "text": [
      "Uppercase letters: 6\n",
      "Lowercase letters: 6\n"
     ]
    }
   ],
   "source": [
    "s = input(\"Enter a string: \")\n",
    "upper = sum(1 for char in s if char.isupper())\n",
    "lower = sum(1 for char in s if char.islower())\n",
    "print(\"Uppercase letters:\", upper)\n",
    "print(\"Lowercase letters:\", lower)\n"
   ]
  },
  {
   "cell_type": "code",
   "execution_count": 31,
   "id": "57cc02e3-e8cf-4335-8912-8c5917cd6ea3",
   "metadata": {},
   "outputs": [
    {
     "name": "stdin",
     "output_type": "stream",
     "text": [
      "Enter numbers separated by space:  1 2 3 4\n"
     ]
    },
    {
     "name": "stdout",
     "output_type": "stream",
     "text": [
      "Squared List: [1, 4, 9, 16]\n"
     ]
    }
   ],
   "source": [
    "lst = list(map(int, input(\"Enter numbers separated by space: \").split()))\n",
    "squared = list(map(lambda x: x**2, lst))\n",
    "print(\"Squared List:\", squared)\n"
   ]
  },
  {
   "cell_type": "code",
   "execution_count": 32,
   "id": "3f3a29b3-4fb1-47f9-af6c-f2319c1845fd",
   "metadata": {},
   "outputs": [
    {
     "name": "stdout",
     "output_type": "stream",
     "text": [
      "Prime numbers from 1 to 100: [2, 3, 5, 7, 11, 13, 17, 19, 23, 29, 31, 37, 41, 43, 47, 53, 59, 61, 67, 71, 73, 79, 83, 89, 97]\n"
     ]
    }
   ],
   "source": [
    "def is_prime(n):\n",
    "    if n <= 1:\n",
    "        return False\n",
    "    for i in range(2, int(n**0.5)+1):\n",
    "        if n % i == 0:\n",
    "            return False\n",
    "    return True\n",
    "\n",
    "primes = [x for x in range(1, 101) if is_prime(x)]\n",
    "print(\"Prime numbers from 1 to 100:\", primes)\n"
   ]
  },
  {
   "cell_type": "code",
   "execution_count": 33,
   "id": "ddc8eda9-3a00-4caf-9841-f6d5d111acc8",
   "metadata": {},
   "outputs": [
    {
     "name": "stdin",
     "output_type": "stream",
     "text": [
      "Enter first number:  6 \n",
      "Enter second number:  9\n",
      "Enter operation (+, -, *, /):  -\n"
     ]
    },
    {
     "name": "stdout",
     "output_type": "stream",
     "text": [
      "Result: -3.0\n"
     ]
    }
   ],
   "source": [
    "def add(a, b): return a + b\n",
    "def sub(a, b): return a - b\n",
    "def mul(a, b): return a * b\n",
    "def div(a, b): return a / b if b != 0 else \"Division by zero error\"\n",
    "\n",
    "a = float(input(\"Enter first number: \"))\n",
    "b = float(input(\"Enter second number: \"))\n",
    "op = input(\"Enter operation (+, -, *, /): \")\n",
    "\n",
    "if op == '+':\n",
    "    print(\"Result:\", add(a, b))\n",
    "elif op == '-':\n",
    "    print(\"Result:\", sub(a, b))\n",
    "elif op == '*':\n",
    "    print(\"Result:\", mul(a, b))\n",
    "elif op == '/':\n",
    "    print(\"Result:\", div(a, b))\n",
    "else:\n",
    "    print(\"Invalid operation\")\n"
   ]
  },
  {
   "cell_type": "code",
   "execution_count": 34,
   "id": "7ab7a7cf-c39c-4634-9d0f-089d6b435021",
   "metadata": {},
   "outputs": [
    {
     "name": "stdin",
     "output_type": "stream",
     "text": [
      "Enter a number:  8\n"
     ]
    },
    {
     "name": "stdout",
     "output_type": "stream",
     "text": [
      "Factorial: 40320\n"
     ]
    }
   ],
   "source": [
    "def factorial(n):\n",
    "    if n == 0 or n == 1:\n",
    "        return 1\n",
    "    return n * factorial(n - 1)\n",
    "\n",
    "num = int(input(\"Enter a number: \"))\n",
    "print(\"Factorial:\", factorial(num))\n"
   ]
  },
  {
   "cell_type": "code",
   "execution_count": 35,
   "id": "abbb05e5-7e8d-4fba-8b5a-62d70fdda853",
   "metadata": {},
   "outputs": [
    {
     "name": "stdout",
     "output_type": "stream",
     "text": [
      "Name: Rishav, Roll: 24, Course: BCA\n"
     ]
    }
   ],
   "source": [
    "class Student:\n",
    "    def __init__(self, name, roll, course):\n",
    "        self.name = name\n",
    "        self.roll = roll\n",
    "        self.course = course\n",
    "\n",
    "    def display(self):\n",
    "        print(f\"Name: {self.name}, Roll: {self.roll}, Course: {self.course}\")\n",
    "\n",
    "s1 = Student(\"Rishav\", 24, \"BCA\")\n",
    "s1.display()\n"
   ]
  },
  {
   "cell_type": "code",
   "execution_count": 36,
   "id": "d694f6ee-8bcd-4a62-8498-ab69588c7fc2",
   "metadata": {},
   "outputs": [
    {
     "name": "stdin",
     "output_type": "stream",
     "text": [
      "Enter file name:  java rishav.txt\n"
     ]
    },
    {
     "name": "stdout",
     "output_type": "stream",
     "text": [
      "File not found\n"
     ]
    }
   ],
   "source": [
    "filename = input(\"Enter file name: \")\n",
    "try:\n",
    "    with open(filename, 'r') as f:\n",
    "        lines = f.readlines()\n",
    "        word_count = sum(len(line.split()) for line in lines)\n",
    "        print(\"Total Lines:\", len(lines))\n",
    "        print(\"Total Words:\", word_count)\n",
    "except FileNotFoundError:\n",
    "    print(\"File not found\")\n"
   ]
  },
  {
   "cell_type": "code",
   "execution_count": 37,
   "id": "c0213eed-ddce-4fa2-a5ce-6a35ae882777",
   "metadata": {},
   "outputs": [
    {
     "name": "stdout",
     "output_type": "stream",
     "text": [
      "Execution time: 0.008113 seconds\n"
     ]
    }
   ],
   "source": [
    "import time\n",
    "\n",
    "def timer_decorator(func):\n",
    "    def wrapper(*args, **kwargs):\n",
    "        start = time.time()\n",
    "        result = func(*args, **kwargs)\n",
    "        end = time.time()\n",
    "        print(f\"Execution time: {end - start:.6f} seconds\")\n",
    "        return result\n",
    "    return wrapper\n",
    "\n",
    "@timer_decorator\n",
    "def sample_function():\n",
    "    for _ in range(1000000):\n",
    "        pass\n",
    "\n",
    "sample_function()\n"
   ]
  },
  {
   "cell_type": "code",
   "execution_count": 38,
   "id": "ad7d6cc9-a00c-4a86-a090-428f83a85dce",
   "metadata": {},
   "outputs": [
    {
     "name": "stdout",
     "output_type": "stream",
     "text": [
      "Deposited 500. New balance: 1500\n",
      "Withdrew 300. New balance: 1200\n",
      "Insufficient balance\n"
     ]
    }
   ],
   "source": [
    "class BankAccount:\n",
    "    def __init__(self, owner, balance=0):\n",
    "        self.owner = owner\n",
    "        self.balance = balance\n",
    "\n",
    "    def deposit(self, amount):\n",
    "        self.balance += amount\n",
    "        print(f\"Deposited {amount}. New balance: {self.balance}\")\n",
    "\n",
    "    def withdraw(self, amount):\n",
    "        if amount <= self.balance:\n",
    "            self.balance -= amount\n",
    "            print(f\"Withdrew {amount}. New balance: {self.balance}\")\n",
    "        else:\n",
    "            print(\"Insufficient balance\")\n",
    "\n",
    "account = BankAccount(\"Rishav\", 1000)\n",
    "account.deposit(500)\n",
    "account.withdraw(300)\n",
    "account.withdraw(1500)\n"
   ]
  },
  {
   "cell_type": "code",
   "execution_count": 40,
   "id": "452fca85-dfa4-4bb4-b77b-c7a98c53d6de",
   "metadata": {},
   "outputs": [
    {
     "name": "stdin",
     "output_type": "stream",
     "text": [
      "Enter n:  99\n"
     ]
    },
    {
     "name": "stdout",
     "output_type": "stream",
     "text": [
      "2 4 6 8 10 12 14 16 18 20 22 24 26 28 30 32 34 36 38 40 42 44 46 48 50 52 54 56 58 60 62 64 66 68 70 72 74 76 78 80 82 84 86 88 90 92 94 96 98 "
     ]
    }
   ],
   "source": [
    "def even_generator(n):\n",
    "    for i in range(2, n+1, 2):\n",
    "        yield i\n",
    "\n",
    "n = int(input(\"Enter n: \"))\n",
    "for even_num in even_generator(n):\n",
    "    print(even_num, end=' ')\n"
   ]
  },
  {
   "cell_type": "code",
   "execution_count": 41,
   "id": "d19f1826-481a-4cae-bc2e-2c12f393af84",
   "metadata": {},
   "outputs": [
    {
     "name": "stdout",
     "output_type": "stream",
     "text": [
      "Positional arguments: (1, 2, 3)\n",
      "Keyword arguments: {'name': 'Rishav', 'age': 20}\n"
     ]
    }
   ],
   "source": [
    "def print_args_kwargs(*args, **kwargs):\n",
    "    print(\"Positional arguments:\", args)\n",
    "    print(\"Keyword arguments:\", kwargs)\n",
    "\n",
    "print_args_kwargs(1, 2, 3, name=\"Rishav\", age=20)\n"
   ]
  },
  {
   "cell_type": "code",
   "execution_count": 42,
   "id": "e38f5d9e-f890-4fe4-88f8-b196761a3c88",
   "metadata": {},
   "outputs": [
    {
     "name": "stdout",
     "output_type": "stream",
     "text": [
      "Squares of even numbers: [4, 16, 36, 64, 100, 144, 196, 256, 324, 400]\n"
     ]
    }
   ],
   "source": [
    "squares = [x**2 for x in range(1, 21) if x % 2 == 0]\n",
    "print(\"Squares of even numbers:\", squares)\n"
   ]
  },
  {
   "cell_type": "code",
   "execution_count": 43,
   "id": "5dc2b9ff-624a-463c-bd97-1a64780098b9",
   "metadata": {},
   "outputs": [
    {
     "name": "stdin",
     "output_type": "stream",
     "text": [
      "Enter list elements separated by space:  1 3 4 5 3 1 9 4\n"
     ]
    },
    {
     "name": "stdout",
     "output_type": "stream",
     "text": [
      "Unique elements: [1, 3, 4, 5, 9]\n"
     ]
    }
   ],
   "source": [
    "def unique_elements(lst):\n",
    "    return list(set(lst))\n",
    "\n",
    "lst = list(map(int, input(\"Enter list elements separated by space: \").split()))\n",
    "print(\"Unique elements:\", unique_elements(lst))\n"
   ]
  },
  {
   "cell_type": "code",
   "execution_count": 44,
   "id": "6ecffb2c-1a25-477e-9cb0-2a308eecbe30",
   "metadata": {},
   "outputs": [
    {
     "name": "stdout",
     "output_type": "stream",
     "text": [
      "Merged dictionary: {'a': 1, 'b': 2, 'c': 3, 'd': 4}\n"
     ]
    }
   ],
   "source": [
    "dict1 = {'a': 1, 'b': 2}\n",
    "dict2 = {'c': 3, 'd': 4}\n",
    "\n",
    "merged = {**dict1, **dict2}\n",
    "print(\"Merged dictionary:\", merged)\n"
   ]
  },
  {
   "cell_type": "code",
   "execution_count": 45,
   "id": "954b35fe-173f-4152-9155-d59891a8f9e6",
   "metadata": {},
   "outputs": [
    {
     "name": "stdout",
     "output_type": "stream",
     "text": [
      "Hello from Child\n"
     ]
    }
   ],
   "source": [
    "class Parent:\n",
    "    def greet(self):\n",
    "        print(\"Hello from Parent\")\n",
    "\n",
    "class Child(Parent):\n",
    "    def greet(self):\n",
    "        print(\"Hello from Child\")\n",
    "\n",
    "c = Child()\n",
    "c.greet()\n"
   ]
  },
  {
   "cell_type": "code",
   "execution_count": 46,
   "id": "4cebef14-d2c1-4465-aa71-37985608602e",
   "metadata": {},
   "outputs": [
    {
     "name": "stdin",
     "output_type": "stream",
     "text": [
      "Enter first list:  1 2 4 5 6 7\n",
      "Enter second list:  7 2 4 6 8 9 \n"
     ]
    },
    {
     "name": "stdout",
     "output_type": "stream",
     "text": [
      "Common elements: [2, 4, 6, 7]\n"
     ]
    }
   ],
   "source": [
    "def common_elements(lst1, lst2):\n",
    "    return list(set(lst1) & set(lst2))\n",
    "\n",
    "list1 = list(map(int, input(\"Enter first list: \").split()))\n",
    "list2 = list(map(int, input(\"Enter second list: \").split()))\n",
    "\n",
    "print(\"Common elements:\", common_elements(list1, list2))\n"
   ]
  },
  {
   "cell_type": "code",
   "execution_count": 47,
   "id": "8195ee19-5860-409c-8d9b-725144e6c529",
   "metadata": {},
   "outputs": [
    {
     "name": "stdin",
     "output_type": "stream",
     "text": [
      "Enter a number:  14\n"
     ]
    },
    {
     "name": "stdout",
     "output_type": "stream",
     "text": [
      "This block always executes.\n"
     ]
    }
   ],
   "source": [
    "try:\n",
    "    num = int(input(\"Enter a number: \"))\n",
    "    result = 10 / num\n",
    "except ValueError:\n",
    "    print(\"Invalid input! Please enter a number.\")\n",
    "except ZeroDivisionError:\n",
    "    print(\"Cannot divide by zero!\")\n",
    "finally:\n",
    "    print(\"This block always executes.\")\n"
   ]
  },
  {
   "cell_type": "code",
   "execution_count": 48,
   "id": "ec4f04d6-491b-4da6-899e-6f21a18406bc",
   "metadata": {},
   "outputs": [
    {
     "name": "stdout",
     "output_type": "stream",
     "text": [
      "Name: Rishav\n",
      "Age: 20\n",
      "City: Delhi\n"
     ]
    }
   ],
   "source": [
    "import json\n",
    "\n",
    "json_str = '{\"name\": \"Rishav\", \"age\": 20, \"city\": \"Delhi\"}'\n",
    "data = json.loads(json_str)\n",
    "\n",
    "print(\"Name:\", data[\"name\"])\n",
    "print(\"Age:\", data[\"age\"])\n",
    "print(\"City:\", data[\"city\"])\n"
   ]
  },
  {
   "cell_type": "code",
   "execution_count": 49,
   "id": "ccd9c6b8-39ca-40ec-9791-2e5e80dc8503",
   "metadata": {},
   "outputs": [
    {
     "name": "stdout",
     "output_type": "stream",
     "text": [
      "Public\n",
      "Protected\n",
      "Private\n",
      "Public\n",
      "Protected\n"
     ]
    }
   ],
   "source": [
    "class Test:\n",
    "    def __init__(self):\n",
    "        self.public = \"Public\"\n",
    "        self._protected = \"Protected\"\n",
    "        self.__private = \"Private\"\n",
    "\n",
    "    def display(self):\n",
    "        print(self.public)\n",
    "        print(self._protected)\n",
    "        print(self.__private)\n",
    "\n",
    "t = Test()\n",
    "t.display()\n",
    "\n",
    "# Accessing directly:\n",
    "print(t.public)\n",
    "print(t._protected)\n",
    "# print(t.__private)  # This will give error\n"
   ]
  },
  {
   "cell_type": "code",
   "execution_count": 50,
   "id": "10eb05af-a6df-40dd-9437-58f05e819a45",
   "metadata": {},
   "outputs": [
    {
     "name": "stdin",
     "output_type": "stream",
     "text": [
      "Enter an email:  rishavuniyal75@gmail.com\n"
     ]
    },
    {
     "name": "stdout",
     "output_type": "stream",
     "text": [
      "Valid Email\n"
     ]
    }
   ],
   "source": [
    "import re\n",
    "\n",
    "def is_valid_email(email):\n",
    "    pattern = r'^[\\w\\.-]+@[\\w\\.-]+\\.\\w+$'\n",
    "    return bool(re.match(pattern, email))\n",
    "\n",
    "email = input(\"Enter an email: \")\n",
    "print(\"Valid Email\" if is_valid_email(email) else \"Invalid Email\")\n"
   ]
  },
  {
   "cell_type": "code",
   "execution_count": 51,
   "id": "b6788ec1-dc96-4cde-8c48-eff1015e093a",
   "metadata": {},
   "outputs": [
    {
     "name": "stdin",
     "output_type": "stream",
     "text": [
      "Enter CSV file name:  jdf\n"
     ]
    },
    {
     "name": "stdout",
     "output_type": "stream",
     "text": [
      "File not found\n"
     ]
    }
   ],
   "source": [
    "import csv\n",
    "\n",
    "filename = input(\"Enter CSV file name: \")\n",
    "try:\n",
    "    with open(filename, 'r') as file:\n",
    "        reader = csv.DictReader(file)\n",
    "        data = list(reader)\n",
    "    print(data)\n",
    "except FileNotFoundError:\n",
    "    print(\"File not found\")\n"
   ]
  },
  {
   "cell_type": "code",
   "execution_count": 53,
   "id": "831742ac-d4f7-4bb7-adb8-1fe928a37a68",
   "metadata": {},
   "outputs": [
    {
     "name": "stdin",
     "output_type": "stream",
     "text": [
      "Enter username:  rishav\n",
      "Enter password:  1234\n"
     ]
    },
    {
     "name": "stdout",
     "output_type": "stream",
     "text": [
      "Login successful\n"
     ]
    }
   ],
   "source": [
    "users = {'rishav': '1234', 'admin': 'admin123'}\n",
    "\n",
    "username = input(\"Enter username: \")\n",
    "password = input(\"Enter password: \")\n",
    "\n",
    "if username in users and users[username] == password:\n",
    "    print(\"Login successful\")\n",
    "else:\n",
    "    print(\"Invalid username or password\")\n"
   ]
  },
  {
   "cell_type": "code",
   "execution_count": 54,
   "id": "9b624156-93a7-4afc-be19-6df611a1a78d",
   "metadata": {},
   "outputs": [
    {
     "name": "stdout",
     "output_type": "stream",
     "text": [
      "Flattened list: [1, 2, 3, 4, 5, 6]\n"
     ]
    }
   ],
   "source": [
    "def flatten(lst):\n",
    "    result = []\n",
    "    for item in lst:\n",
    "        if isinstance(item, list):\n",
    "            result.extend(flatten(item))\n",
    "        else:\n",
    "            result.append(item)\n",
    "    return result\n",
    "\n",
    "nested_list = [1, [2, [3, 4], 5], 6]\n",
    "print(\"Flattened list:\", flatten(nested_list))\n"
   ]
  },
  {
   "cell_type": "code",
   "execution_count": 55,
   "id": "5f67af4c-29b8-4c5f-b4af-d4995cfd7469",
   "metadata": {},
   "outputs": [
    {
     "name": "stdout",
     "output_type": "stream",
     "text": [
      "Squares: [1, 4, 9, 16, 25]\n",
      "Evens: [2, 4]\n",
      "Sum: 15\n"
     ]
    }
   ],
   "source": [
    "from functools import reduce\n",
    "\n",
    "lst = [1, 2, 3, 4, 5]\n",
    "\n",
    "# map: square each element\n",
    "squares = list(map(lambda x: x**2, lst))\n",
    "\n",
    "# filter: keep only even numbers\n",
    "evens = list(filter(lambda x: x % 2 == 0, lst))\n",
    "\n",
    "# reduce: sum of all elements\n",
    "total = reduce(lambda x, y: x + y, lst)\n",
    "\n",
    "print(\"Squares:\", squares)\n",
    "print(\"Evens:\", evens)\n",
    "print(\"Sum:\", total)\n"
   ]
  },
  {
   "cell_type": "code",
   "execution_count": null,
   "id": "2214d6c1-8087-42a8-ab4f-cf3fb273032a",
   "metadata": {},
   "outputs": [
    {
     "name": "stdout",
     "output_type": "stream",
     "text": [
      "\n",
      "Options: add, sub, mul, div, exit\n"
     ]
    },
    {
     "name": "stdin",
     "output_type": "stream",
     "text": [
      "Enter operation:  mul\n",
      "Enter first number:  877\n",
      "Enter second number:  9\n"
     ]
    },
    {
     "name": "stdout",
     "output_type": "stream",
     "text": [
      "Result: 7893.0\n",
      "\n",
      "Options: add, sub, mul, div, exit\n"
     ]
    }
   ],
   "source": [
    "def calculator():\n",
    "    while True:\n",
    "        print(\"\\nOptions: add, sub, mul, div, exit\")\n",
    "        op = input(\"Enter operation: \")\n",
    "        if op == 'exit':\n",
    "            print(\"Exiting...\")\n",
    "            break\n",
    "        a = float(input(\"Enter first number: \"))\n",
    "        b = float(input(\"Enter second number: \"))\n",
    "\n",
    "        if op == 'add':\n",
    "            print(\"Result:\", a + b)\n",
    "        elif op == 'sub':\n",
    "            print(\"Result:\", a - b)\n",
    "        elif op == 'mul':\n",
    "            print(\"Result:\", a * b)\n",
    "        elif op == 'div':\n",
    "            if b != 0:\n",
    "                print(\"Result:\", a / b)\n",
    "            else:\n",
    "                print(\"Cannot divide by zero\")\n",
    "        else:\n",
    "            print(\"Invalid operation\")\n",
    "\n",
    "calculator()\n"
   ]
  },
  {
   "cell_type": "code",
   "execution_count": 1,
   "id": "2c5088c4-65fd-4eb5-83bc-3d82559af448",
   "metadata": {},
   "outputs": [
    {
     "name": "stdin",
     "output_type": "stream",
     "text": [
      "What is the capital of India?  delhi\n"
     ]
    },
    {
     "name": "stdout",
     "output_type": "stream",
     "text": [
      "Correct!\n"
     ]
    },
    {
     "name": "stdin",
     "output_type": "stream",
     "text": [
      "What is 5 + 7?  12\n"
     ]
    },
    {
     "name": "stdout",
     "output_type": "stream",
     "text": [
      "Correct!\n"
     ]
    },
    {
     "name": "stdin",
     "output_type": "stream",
     "text": [
      "What is the color of the sky?  blue\n"
     ]
    },
    {
     "name": "stdout",
     "output_type": "stream",
     "text": [
      "Correct!\n"
     ]
    },
    {
     "name": "stdin",
     "output_type": "stream",
     "text": [
      "Who wrote 'Harry Potter'?  jk rowling\n"
     ]
    },
    {
     "name": "stdout",
     "output_type": "stream",
     "text": [
      "Wrong!\n"
     ]
    },
    {
     "name": "stdin",
     "output_type": "stream",
     "text": [
      "What is the boiling point of water (in Celsius)?  100\n"
     ]
    },
    {
     "name": "stdout",
     "output_type": "stream",
     "text": [
      "Correct!\n",
      "\n",
      "Your final score: 4 out of 5\n"
     ]
    }
   ],
   "source": [
    "questions = {\n",
    "    \"What is the capital of India? \": \"Delhi\",\n",
    "    \"What is 5 + 7? \": \"12\",\n",
    "    \"What is the color of the sky? \": \"blue\",\n",
    "    \"Who wrote 'Harry Potter'? \": \"J.K. Rowling\",\n",
    "    \"What is the boiling point of water (in Celsius)? \": \"100\"\n",
    "}\n",
    "\n",
    "score = 0\n",
    "\n",
    "for q, ans in questions.items():\n",
    "    user_ans = input(q).strip().lower()\n",
    "    if user_ans == ans.lower():\n",
    "        print(\"Correct!\")\n",
    "        score += 1\n",
    "    else:\n",
    "        print(\"Wrong!\")\n",
    "\n",
    "print(f\"\\nYour final score: {score} out of {len(questions)}\")\n"
   ]
  },
  {
   "cell_type": "code",
   "execution_count": null,
   "id": "ce3ad161-17d8-4dc4-9216-4e2e86dd5440",
   "metadata": {},
   "outputs": [],
   "source": []
  }
 ],
 "metadata": {
  "kernelspec": {
   "display_name": "Python 3 (ipykernel)",
   "language": "python",
   "name": "python3"
  },
  "language_info": {
   "codemirror_mode": {
    "name": "ipython",
    "version": 3
   },
   "file_extension": ".py",
   "mimetype": "text/x-python",
   "name": "python",
   "nbconvert_exporter": "python",
   "pygments_lexer": "ipython3",
   "version": "3.13.5"
  }
 },
 "nbformat": 4,
 "nbformat_minor": 5
}
